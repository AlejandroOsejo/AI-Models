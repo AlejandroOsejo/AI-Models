{
 "cells": [
  {
   "cell_type": "markdown",
   "id": "a0d356ad",
   "metadata": {},
   "source": [
    "### Multi-Agent Research Workflow with AgentWorkflow"
   ]
  },
  {
   "cell_type": "markdown",
   "id": "0b81c254",
   "metadata": {},
   "source": [
    "## Setup"
   ]
  },
  {
   "cell_type": "markdown",
   "id": "6d544e6d",
   "metadata": {},
   "source": [
    "Install dependencies\n",
    "\n",
    "llama y Groq"
   ]
  },
  {
   "cell_type": "markdown",
   "id": "28c679d0",
   "metadata": {},
   "source": [
    "\n",
    "## System Design"
   ]
  },
  {
   "cell_type": "markdown",
   "id": "36efbacb",
   "metadata": {},
   "source": [
    "Our system will have three agents:\n",
    "\n",
    "- **ResearchAgent**: Searches the web for information on the given topic.  \n",
    "- **WriteAgent**: Writes the report using the information found by the ResearchAgent.  \n",
    "- **ReviewAgent**: Reviews the report and provides feedback.\n",
    "\n",
    "We will use the `AgentWorkflow` class to create a multi-agent system that will execute these agents in order.\n",
    "\n",
    "While there are many ways to implement this system, in this case, we will use a few tools to help with the research and writing processes:\n",
    "\n",
    "- `web_search` tool: Searches the web for information on the given topic.  \n",
    "- `record_notes` tool: Records notes on the given topic.  \n",
    "- `write_report` tool: Writes the report using the information found by the ResearchAgent.  \n",
    "- `review_report` tool: Reviews the report and provides feedback.\n",
    "\n",
    "Utilizing the `Context` class, we can pass state between agents, and each agent will have access to the current state of the system.\n"
   ]
  },
  {
   "cell_type": "markdown",
   "id": "ad06f42c",
   "metadata": {},
   "source": [
    "Step 1: install dependencies of chosen tools"
   ]
  },
  {
   "cell_type": "markdown",
   "id": "e349f0f0",
   "metadata": {},
   "source": [
    "Step 2: make tool functions for agent use"
   ]
  },
  {
   "cell_type": "markdown",
   "id": "0b15b3fa",
   "metadata": {},
   "source": [
    "Step 3: Create AgentWorkflow that uses the tool"
   ]
  },
  {
   "cell_type": "markdown",
   "id": "62caa470",
   "metadata": {},
   "source": [
    "## Running the Workflow"
   ]
  },
  {
   "cell_type": "markdown",
   "id": "6e47c7b5",
   "metadata": {},
   "source": [
    "Step 4: Create workflow with AgentWorkFlow import from llama index\n",
    "\n",
    "from llama_index.core.agent.workflow import AgentWorkflow"
   ]
  },
  {
   "cell_type": "markdown",
   "id": "f87b6289",
   "metadata": {},
   "source": [
    "Step 5: Run WorkFlow"
   ]
  }
 ],
 "metadata": {
  "language_info": {
   "name": "python"
  }
 },
 "nbformat": 4,
 "nbformat_minor": 5
}
