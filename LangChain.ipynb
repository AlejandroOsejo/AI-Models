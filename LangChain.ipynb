{
 "cells": [
  {
   "cell_type": "markdown",
   "id": "897d83df",
   "metadata": {},
   "source": [
    "### Multi-Agent Research Workflow with AgentWorkflow"
   ]
  },
  {
   "cell_type": "markdown",
   "id": "8376a0c4",
   "metadata": {},
   "source": [
    "## Setup"
   ]
  },
  {
   "cell_type": "code",
   "execution_count": 2,
   "id": "22cec87f",
   "metadata": {},
   "outputs": [
    {
     "name": "stdout",
     "output_type": "stream",
     "text": [
      "Requirement already satisfied: langchain in c:\\users\\juans\\appdata\\local\\programs\\python\\python311\\lib\\site-packages (0.3.23)\n",
      "Requirement already satisfied: langchain-core<1.0.0,>=0.3.51 in c:\\users\\juans\\appdata\\local\\programs\\python\\python311\\lib\\site-packages (from langchain) (0.3.55)\n",
      "Requirement already satisfied: langchain-text-splitters<1.0.0,>=0.3.8 in c:\\users\\juans\\appdata\\local\\programs\\python\\python311\\lib\\site-packages (from langchain) (0.3.8)\n",
      "Requirement already satisfied: langsmith<0.4,>=0.1.17 in c:\\users\\juans\\appdata\\local\\programs\\python\\python311\\lib\\site-packages (from langchain) (0.3.32)\n",
      "Requirement already satisfied: pydantic<3.0.0,>=2.7.4 in c:\\users\\juans\\appdata\\local\\programs\\python\\python311\\lib\\site-packages (from langchain) (2.11.3)\n",
      "Requirement already satisfied: SQLAlchemy<3,>=1.4 in c:\\users\\juans\\appdata\\local\\programs\\python\\python311\\lib\\site-packages (from langchain) (2.0.40)\n",
      "Requirement already satisfied: requests<3,>=2 in c:\\users\\juans\\appdata\\local\\programs\\python\\python311\\lib\\site-packages (from langchain) (2.32.3)\n",
      "Requirement already satisfied: PyYAML>=5.3 in c:\\users\\juans\\appdata\\local\\programs\\python\\python311\\lib\\site-packages (from langchain) (6.0.2)\n",
      "Requirement already satisfied: tenacity!=8.4.0,<10.0.0,>=8.1.0 in c:\\users\\juans\\appdata\\local\\programs\\python\\python311\\lib\\site-packages (from langchain-core<1.0.0,>=0.3.51->langchain) (9.1.2)\n",
      "Requirement already satisfied: jsonpatch<2.0,>=1.33 in c:\\users\\juans\\appdata\\local\\programs\\python\\python311\\lib\\site-packages (from langchain-core<1.0.0,>=0.3.51->langchain) (1.33)\n",
      "Requirement already satisfied: packaging<25,>=23.2 in c:\\users\\juans\\appdata\\roaming\\python\\python311\\site-packages (from langchain-core<1.0.0,>=0.3.51->langchain) (24.2)\n",
      "Requirement already satisfied: typing-extensions>=4.7 in c:\\users\\juans\\appdata\\roaming\\python\\python311\\site-packages (from langchain-core<1.0.0,>=0.3.51->langchain) (4.13.2)\n",
      "Requirement already satisfied: httpx<1,>=0.23.0 in c:\\users\\juans\\appdata\\local\\programs\\python\\python311\\lib\\site-packages (from langsmith<0.4,>=0.1.17->langchain) (0.28.1)\n",
      "Requirement already satisfied: orjson<4.0.0,>=3.9.14 in c:\\users\\juans\\appdata\\local\\programs\\python\\python311\\lib\\site-packages (from langsmith<0.4,>=0.1.17->langchain) (3.10.16)\n",
      "Requirement already satisfied: requests-toolbelt<2.0.0,>=1.0.0 in c:\\users\\juans\\appdata\\local\\programs\\python\\python311\\lib\\site-packages (from langsmith<0.4,>=0.1.17->langchain) (1.0.0)\n",
      "Requirement already satisfied: zstandard<0.24.0,>=0.23.0 in c:\\users\\juans\\appdata\\local\\programs\\python\\python311\\lib\\site-packages (from langsmith<0.4,>=0.1.17->langchain) (0.23.0)\n",
      "Requirement already satisfied: annotated-types>=0.6.0 in c:\\users\\juans\\appdata\\local\\programs\\python\\python311\\lib\\site-packages (from pydantic<3.0.0,>=2.7.4->langchain) (0.7.0)\n",
      "Requirement already satisfied: pydantic-core==2.33.1 in c:\\users\\juans\\appdata\\local\\programs\\python\\python311\\lib\\site-packages (from pydantic<3.0.0,>=2.7.4->langchain) (2.33.1)\n",
      "Requirement already satisfied: typing-inspection>=0.4.0 in c:\\users\\juans\\appdata\\local\\programs\\python\\python311\\lib\\site-packages (from pydantic<3.0.0,>=2.7.4->langchain) (0.4.0)\n",
      "Requirement already satisfied: charset-normalizer<4,>=2 in c:\\users\\juans\\appdata\\local\\programs\\python\\python311\\lib\\site-packages (from requests<3,>=2->langchain) (3.4.1)\n",
      "Requirement already satisfied: idna<4,>=2.5 in c:\\users\\juans\\appdata\\local\\programs\\python\\python311\\lib\\site-packages (from requests<3,>=2->langchain) (3.10)\n",
      "Requirement already satisfied: urllib3<3,>=1.21.1 in c:\\users\\juans\\appdata\\local\\programs\\python\\python311\\lib\\site-packages (from requests<3,>=2->langchain) (2.4.0)\n",
      "Requirement already satisfied: certifi>=2017.4.17 in c:\\users\\juans\\appdata\\local\\programs\\python\\python311\\lib\\site-packages (from requests<3,>=2->langchain) (2025.1.31)\n",
      "Requirement already satisfied: greenlet>=1 in c:\\users\\juans\\appdata\\local\\programs\\python\\python311\\lib\\site-packages (from SQLAlchemy<3,>=1.4->langchain) (3.2.0)\n",
      "Requirement already satisfied: anyio in c:\\users\\juans\\appdata\\local\\programs\\python\\python311\\lib\\site-packages (from httpx<1,>=0.23.0->langsmith<0.4,>=0.1.17->langchain) (4.9.0)\n",
      "Requirement already satisfied: httpcore==1.* in c:\\users\\juans\\appdata\\local\\programs\\python\\python311\\lib\\site-packages (from httpx<1,>=0.23.0->langsmith<0.4,>=0.1.17->langchain) (1.0.8)\n",
      "Requirement already satisfied: h11<0.15,>=0.13 in c:\\users\\juans\\appdata\\local\\programs\\python\\python311\\lib\\site-packages (from httpcore==1.*->httpx<1,>=0.23.0->langsmith<0.4,>=0.1.17->langchain) (0.14.0)\n",
      "Requirement already satisfied: jsonpointer>=1.9 in c:\\users\\juans\\appdata\\local\\programs\\python\\python311\\lib\\site-packages (from jsonpatch<2.0,>=1.33->langchain-core<1.0.0,>=0.3.51->langchain) (3.0.0)\n",
      "Requirement already satisfied: sniffio>=1.1 in c:\\users\\juans\\appdata\\local\\programs\\python\\python311\\lib\\site-packages (from anyio->httpx<1,>=0.23.0->langsmith<0.4,>=0.1.17->langchain) (1.3.1)\n",
      "Note: you may need to restart the kernel to use updated packages.\n"
     ]
    },
    {
     "name": "stderr",
     "output_type": "stream",
     "text": [
      "\n",
      "[notice] A new release of pip is available: 24.0 -> 25.0.1\n",
      "[notice] To update, run: python.exe -m pip install --upgrade pip\n"
     ]
    },
    {
     "name": "stdout",
     "output_type": "stream",
     "text": [
      "Requirement already satisfied: langchain in c:\\users\\juans\\appdata\\local\\programs\\python\\python311\\lib\\site-packages (0.3.23)\n",
      "Requirement already satisfied: groq in c:\\users\\juans\\appdata\\local\\programs\\python\\python311\\lib\\site-packages (0.22.0)\n",
      "Requirement already satisfied: langchain-core<1.0.0,>=0.3.51 in c:\\users\\juans\\appdata\\local\\programs\\python\\python311\\lib\\site-packages (from langchain) (0.3.55)\n",
      "Requirement already satisfied: langchain-text-splitters<1.0.0,>=0.3.8 in c:\\users\\juans\\appdata\\local\\programs\\python\\python311\\lib\\site-packages (from langchain) (0.3.8)\n",
      "Requirement already satisfied: langsmith<0.4,>=0.1.17 in c:\\users\\juans\\appdata\\local\\programs\\python\\python311\\lib\\site-packages (from langchain) (0.3.32)\n",
      "Requirement already satisfied: pydantic<3.0.0,>=2.7.4 in c:\\users\\juans\\appdata\\local\\programs\\python\\python311\\lib\\site-packages (from langchain) (2.11.3)\n",
      "Requirement already satisfied: SQLAlchemy<3,>=1.4 in c:\\users\\juans\\appdata\\local\\programs\\python\\python311\\lib\\site-packages (from langchain) (2.0.40)\n",
      "Requirement already satisfied: requests<3,>=2 in c:\\users\\juans\\appdata\\local\\programs\\python\\python311\\lib\\site-packages (from langchain) (2.32.3)\n",
      "Requirement already satisfied: PyYAML>=5.3 in c:\\users\\juans\\appdata\\local\\programs\\python\\python311\\lib\\site-packages (from langchain) (6.0.2)\n",
      "Requirement already satisfied: anyio<5,>=3.5.0 in c:\\users\\juans\\appdata\\local\\programs\\python\\python311\\lib\\site-packages (from groq) (4.9.0)\n",
      "Requirement already satisfied: distro<2,>=1.7.0 in c:\\users\\juans\\appdata\\local\\programs\\python\\python311\\lib\\site-packages (from groq) (1.9.0)\n",
      "Requirement already satisfied: httpx<1,>=0.23.0 in c:\\users\\juans\\appdata\\local\\programs\\python\\python311\\lib\\site-packages (from groq) (0.28.1)\n",
      "Requirement already satisfied: sniffio in c:\\users\\juans\\appdata\\local\\programs\\python\\python311\\lib\\site-packages (from groq) (1.3.1)\n",
      "Requirement already satisfied: typing-extensions<5,>=4.10 in c:\\users\\juans\\appdata\\roaming\\python\\python311\\site-packages (from groq) (4.13.2)\n",
      "Requirement already satisfied: idna>=2.8 in c:\\users\\juans\\appdata\\local\\programs\\python\\python311\\lib\\site-packages (from anyio<5,>=3.5.0->groq) (3.10)\n",
      "Requirement already satisfied: certifi in c:\\users\\juans\\appdata\\local\\programs\\python\\python311\\lib\\site-packages (from httpx<1,>=0.23.0->groq) (2025.1.31)\n",
      "Requirement already satisfied: httpcore==1.* in c:\\users\\juans\\appdata\\local\\programs\\python\\python311\\lib\\site-packages (from httpx<1,>=0.23.0->groq) (1.0.8)\n",
      "Requirement already satisfied: h11<0.15,>=0.13 in c:\\users\\juans\\appdata\\local\\programs\\python\\python311\\lib\\site-packages (from httpcore==1.*->httpx<1,>=0.23.0->groq) (0.14.0)\n",
      "Requirement already satisfied: tenacity!=8.4.0,<10.0.0,>=8.1.0 in c:\\users\\juans\\appdata\\local\\programs\\python\\python311\\lib\\site-packages (from langchain-core<1.0.0,>=0.3.51->langchain) (9.1.2)\n",
      "Requirement already satisfied: jsonpatch<2.0,>=1.33 in c:\\users\\juans\\appdata\\local\\programs\\python\\python311\\lib\\site-packages (from langchain-core<1.0.0,>=0.3.51->langchain) (1.33)\n",
      "Requirement already satisfied: packaging<25,>=23.2 in c:\\users\\juans\\appdata\\roaming\\python\\python311\\site-packages (from langchain-core<1.0.0,>=0.3.51->langchain) (24.2)\n",
      "Requirement already satisfied: orjson<4.0.0,>=3.9.14 in c:\\users\\juans\\appdata\\local\\programs\\python\\python311\\lib\\site-packages (from langsmith<0.4,>=0.1.17->langchain) (3.10.16)\n",
      "Requirement already satisfied: requests-toolbelt<2.0.0,>=1.0.0 in c:\\users\\juans\\appdata\\local\\programs\\python\\python311\\lib\\site-packages (from langsmith<0.4,>=0.1.17->langchain) (1.0.0)\n",
      "Requirement already satisfied: zstandard<0.24.0,>=0.23.0 in c:\\users\\juans\\appdata\\local\\programs\\python\\python311\\lib\\site-packages (from langsmith<0.4,>=0.1.17->langchain) (0.23.0)\n",
      "Requirement already satisfied: annotated-types>=0.6.0 in c:\\users\\juans\\appdata\\local\\programs\\python\\python311\\lib\\site-packages (from pydantic<3.0.0,>=2.7.4->langchain) (0.7.0)\n",
      "Requirement already satisfied: pydantic-core==2.33.1 in c:\\users\\juans\\appdata\\local\\programs\\python\\python311\\lib\\site-packages (from pydantic<3.0.0,>=2.7.4->langchain) (2.33.1)\n",
      "Requirement already satisfied: typing-inspection>=0.4.0 in c:\\users\\juans\\appdata\\local\\programs\\python\\python311\\lib\\site-packages (from pydantic<3.0.0,>=2.7.4->langchain) (0.4.0)\n",
      "Requirement already satisfied: charset-normalizer<4,>=2 in c:\\users\\juans\\appdata\\local\\programs\\python\\python311\\lib\\site-packages (from requests<3,>=2->langchain) (3.4.1)\n",
      "Requirement already satisfied: urllib3<3,>=1.21.1 in c:\\users\\juans\\appdata\\local\\programs\\python\\python311\\lib\\site-packages (from requests<3,>=2->langchain) (2.4.0)\n",
      "Requirement already satisfied: greenlet>=1 in c:\\users\\juans\\appdata\\local\\programs\\python\\python311\\lib\\site-packages (from SQLAlchemy<3,>=1.4->langchain) (3.2.0)\n",
      "Requirement already satisfied: jsonpointer>=1.9 in c:\\users\\juans\\appdata\\local\\programs\\python\\python311\\lib\\site-packages (from jsonpatch<2.0,>=1.33->langchain-core<1.0.0,>=0.3.51->langchain) (3.0.0)\n",
      "Note: you may need to restart the kernel to use updated packages.\n"
     ]
    },
    {
     "name": "stderr",
     "output_type": "stream",
     "text": [
      "\n",
      "[notice] A new release of pip is available: 24.0 -> 25.0.1\n",
      "[notice] To update, run: python.exe -m pip install --upgrade pip\n"
     ]
    }
   ],
   "source": [
    "%pip install langchain\n",
    "%pip install langchain groq\n"
   ]
  },
  {
   "cell_type": "code",
   "execution_count": 3,
   "id": "15ee8207",
   "metadata": {},
   "outputs": [],
   "source": [
    "import getpass\n",
    "import os\n",
    "\n",
    "try:\n",
    "    # load environment variables from .env file (requires `python-dotenv`)\n",
    "    from dotenv import load_dotenv\n",
    "\n",
    "    load_dotenv()\n",
    "except ImportError:\n",
    "    pass\n",
    "\n",
    "import os\n",
    "os.environ[\"GROQ_API_KEY\"] = \"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\""
   ]
  },
  {
   "cell_type": "code",
   "execution_count": 4,
   "id": "ada458c9",
   "metadata": {},
   "outputs": [],
   "source": [
    "from langchain_groq import ChatGroq\n",
    "from langchain_core.messages import HumanMessage, SystemMessage\n",
    "\n",
    "llm = ChatGroq(\n",
    "    model_name=\"llama3-70b-8192\",  # u otro modelo compatible, como llama3-8b-8192\n",
    ")\n"
   ]
  },
  {
   "cell_type": "code",
   "execution_count": 5,
   "id": "ba3d516f",
   "metadata": {},
   "outputs": [
    {
     "name": "stdout",
     "output_type": "stream",
     "text": [
      "Requirement already satisfied: langchain-community in c:\\users\\juans\\appdata\\local\\programs\\python\\python311\\lib\\site-packages (0.3.21)\n",
      "Requirement already satisfied: langchain-core<1.0.0,>=0.3.51 in c:\\users\\juans\\appdata\\local\\programs\\python\\python311\\lib\\site-packages (from langchain-community) (0.3.55)\n",
      "Requirement already satisfied: langchain<1.0.0,>=0.3.23 in c:\\users\\juans\\appdata\\local\\programs\\python\\python311\\lib\\site-packages (from langchain-community) (0.3.23)\n",
      "Requirement already satisfied: SQLAlchemy<3,>=1.4 in c:\\users\\juans\\appdata\\local\\programs\\python\\python311\\lib\\site-packages (from langchain-community) (2.0.40)\n",
      "Requirement already satisfied: requests<3,>=2 in c:\\users\\juans\\appdata\\local\\programs\\python\\python311\\lib\\site-packages (from langchain-community) (2.32.3)\n",
      "Requirement already satisfied: PyYAML>=5.3 in c:\\users\\juans\\appdata\\local\\programs\\python\\python311\\lib\\site-packages (from langchain-community) (6.0.2)\n",
      "Requirement already satisfied: aiohttp<4.0.0,>=3.8.3 in c:\\users\\juans\\appdata\\local\\programs\\python\\python311\\lib\\site-packages (from langchain-community) (3.11.16)\n",
      "Requirement already satisfied: tenacity!=8.4.0,<10,>=8.1.0 in c:\\users\\juans\\appdata\\local\\programs\\python\\python311\\lib\\site-packages (from langchain-community) (9.1.2)\n",
      "Requirement already satisfied: dataclasses-json<0.7,>=0.5.7 in c:\\users\\juans\\appdata\\local\\programs\\python\\python311\\lib\\site-packages (from langchain-community) (0.6.7)\n",
      "Requirement already satisfied: pydantic-settings<3.0.0,>=2.4.0 in c:\\users\\juans\\appdata\\local\\programs\\python\\python311\\lib\\site-packages (from langchain-community) (2.9.1)\n",
      "Requirement already satisfied: langsmith<0.4,>=0.1.125 in c:\\users\\juans\\appdata\\local\\programs\\python\\python311\\lib\\site-packages (from langchain-community) (0.3.32)\n",
      "Requirement already satisfied: httpx-sse<1.0.0,>=0.4.0 in c:\\users\\juans\\appdata\\local\\programs\\python\\python311\\lib\\site-packages (from langchain-community) (0.4.0)\n",
      "Requirement already satisfied: numpy<3,>=1.26.2 in c:\\users\\juans\\appdata\\local\\programs\\python\\python311\\lib\\site-packages (from langchain-community) (2.2.4)\n",
      "Requirement already satisfied: aiohappyeyeballs>=2.3.0 in c:\\users\\juans\\appdata\\local\\programs\\python\\python311\\lib\\site-packages (from aiohttp<4.0.0,>=3.8.3->langchain-community) (2.6.1)\n",
      "Requirement already satisfied: aiosignal>=1.1.2 in c:\\users\\juans\\appdata\\local\\programs\\python\\python311\\lib\\site-packages (from aiohttp<4.0.0,>=3.8.3->langchain-community) (1.3.2)\n",
      "Requirement already satisfied: attrs>=17.3.0 in c:\\users\\juans\\appdata\\local\\programs\\python\\python311\\lib\\site-packages (from aiohttp<4.0.0,>=3.8.3->langchain-community) (25.3.0)\n",
      "Requirement already satisfied: frozenlist>=1.1.1 in c:\\users\\juans\\appdata\\local\\programs\\python\\python311\\lib\\site-packages (from aiohttp<4.0.0,>=3.8.3->langchain-community) (1.6.0)\n",
      "Requirement already satisfied: multidict<7.0,>=4.5 in c:\\users\\juans\\appdata\\local\\programs\\python\\python311\\lib\\site-packages (from aiohttp<4.0.0,>=3.8.3->langchain-community) (6.4.3)\n",
      "Requirement already satisfied: propcache>=0.2.0 in c:\\users\\juans\\appdata\\local\\programs\\python\\python311\\lib\\site-packages (from aiohttp<4.0.0,>=3.8.3->langchain-community) (0.3.1)\n",
      "Requirement already satisfied: yarl<2.0,>=1.17.0 in c:\\users\\juans\\appdata\\local\\programs\\python\\python311\\lib\\site-packages (from aiohttp<4.0.0,>=3.8.3->langchain-community) (1.20.0)\n",
      "Requirement already satisfied: marshmallow<4.0.0,>=3.18.0 in c:\\users\\juans\\appdata\\local\\programs\\python\\python311\\lib\\site-packages (from dataclasses-json<0.7,>=0.5.7->langchain-community) (3.26.1)\n",
      "Requirement already satisfied: typing-inspect<1,>=0.4.0 in c:\\users\\juans\\appdata\\local\\programs\\python\\python311\\lib\\site-packages (from dataclasses-json<0.7,>=0.5.7->langchain-community) (0.9.0)\n",
      "Requirement already satisfied: langchain-text-splitters<1.0.0,>=0.3.8 in c:\\users\\juans\\appdata\\local\\programs\\python\\python311\\lib\\site-packages (from langchain<1.0.0,>=0.3.23->langchain-community) (0.3.8)\n",
      "Requirement already satisfied: pydantic<3.0.0,>=2.7.4 in c:\\users\\juans\\appdata\\local\\programs\\python\\python311\\lib\\site-packages (from langchain<1.0.0,>=0.3.23->langchain-community) (2.11.3)\n",
      "Requirement already satisfied: jsonpatch<2.0,>=1.33 in c:\\users\\juans\\appdata\\local\\programs\\python\\python311\\lib\\site-packages (from langchain-core<1.0.0,>=0.3.51->langchain-community) (1.33)\n",
      "Requirement already satisfied: packaging<25,>=23.2 in c:\\users\\juans\\appdata\\roaming\\python\\python311\\site-packages (from langchain-core<1.0.0,>=0.3.51->langchain-community) (24.2)\n",
      "Requirement already satisfied: typing-extensions>=4.7 in c:\\users\\juans\\appdata\\roaming\\python\\python311\\site-packages (from langchain-core<1.0.0,>=0.3.51->langchain-community) (4.13.2)\n",
      "Requirement already satisfied: httpx<1,>=0.23.0 in c:\\users\\juans\\appdata\\local\\programs\\python\\python311\\lib\\site-packages (from langsmith<0.4,>=0.1.125->langchain-community) (0.28.1)\n",
      "Requirement already satisfied: orjson<4.0.0,>=3.9.14 in c:\\users\\juans\\appdata\\local\\programs\\python\\python311\\lib\\site-packages (from langsmith<0.4,>=0.1.125->langchain-community) (3.10.16)\n",
      "Requirement already satisfied: requests-toolbelt<2.0.0,>=1.0.0 in c:\\users\\juans\\appdata\\local\\programs\\python\\python311\\lib\\site-packages (from langsmith<0.4,>=0.1.125->langchain-community) (1.0.0)\n",
      "Requirement already satisfied: zstandard<0.24.0,>=0.23.0 in c:\\users\\juans\\appdata\\local\\programs\\python\\python311\\lib\\site-packages (from langsmith<0.4,>=0.1.125->langchain-community) (0.23.0)\n",
      "Requirement already satisfied: python-dotenv>=0.21.0 in c:\\users\\juans\\appdata\\local\\programs\\python\\python311\\lib\\site-packages (from pydantic-settings<3.0.0,>=2.4.0->langchain-community) (1.1.0)\n",
      "Requirement already satisfied: typing-inspection>=0.4.0 in c:\\users\\juans\\appdata\\local\\programs\\python\\python311\\lib\\site-packages (from pydantic-settings<3.0.0,>=2.4.0->langchain-community) (0.4.0)\n",
      "Requirement already satisfied: charset-normalizer<4,>=2 in c:\\users\\juans\\appdata\\local\\programs\\python\\python311\\lib\\site-packages (from requests<3,>=2->langchain-community) (3.4.1)\n",
      "Requirement already satisfied: idna<4,>=2.5 in c:\\users\\juans\\appdata\\local\\programs\\python\\python311\\lib\\site-packages (from requests<3,>=2->langchain-community) (3.10)\n",
      "Requirement already satisfied: urllib3<3,>=1.21.1 in c:\\users\\juans\\appdata\\local\\programs\\python\\python311\\lib\\site-packages (from requests<3,>=2->langchain-community) (2.4.0)\n",
      "Requirement already satisfied: certifi>=2017.4.17 in c:\\users\\juans\\appdata\\local\\programs\\python\\python311\\lib\\site-packages (from requests<3,>=2->langchain-community) (2025.1.31)\n",
      "Requirement already satisfied: greenlet>=1 in c:\\users\\juans\\appdata\\local\\programs\\python\\python311\\lib\\site-packages (from SQLAlchemy<3,>=1.4->langchain-community) (3.2.0)\n",
      "Requirement already satisfied: anyio in c:\\users\\juans\\appdata\\local\\programs\\python\\python311\\lib\\site-packages (from httpx<1,>=0.23.0->langsmith<0.4,>=0.1.125->langchain-community) (4.9.0)\n",
      "Requirement already satisfied: httpcore==1.* in c:\\users\\juans\\appdata\\local\\programs\\python\\python311\\lib\\site-packages (from httpx<1,>=0.23.0->langsmith<0.4,>=0.1.125->langchain-community) (1.0.8)\n",
      "Requirement already satisfied: h11<0.15,>=0.13 in c:\\users\\juans\\appdata\\local\\programs\\python\\python311\\lib\\site-packages (from httpcore==1.*->httpx<1,>=0.23.0->langsmith<0.4,>=0.1.125->langchain-community) (0.14.0)\n",
      "Requirement already satisfied: jsonpointer>=1.9 in c:\\users\\juans\\appdata\\local\\programs\\python\\python311\\lib\\site-packages (from jsonpatch<2.0,>=1.33->langchain-core<1.0.0,>=0.3.51->langchain-community) (3.0.0)\n",
      "Requirement already satisfied: annotated-types>=0.6.0 in c:\\users\\juans\\appdata\\local\\programs\\python\\python311\\lib\\site-packages (from pydantic<3.0.0,>=2.7.4->langchain<1.0.0,>=0.3.23->langchain-community) (0.7.0)\n",
      "Requirement already satisfied: pydantic-core==2.33.1 in c:\\users\\juans\\appdata\\local\\programs\\python\\python311\\lib\\site-packages (from pydantic<3.0.0,>=2.7.4->langchain<1.0.0,>=0.3.23->langchain-community) (2.33.1)\n",
      "Requirement already satisfied: mypy-extensions>=0.3.0 in c:\\users\\juans\\appdata\\local\\programs\\python\\python311\\lib\\site-packages (from typing-inspect<1,>=0.4.0->dataclasses-json<0.7,>=0.5.7->langchain-community) (1.0.0)\n",
      "Requirement already satisfied: sniffio>=1.1 in c:\\users\\juans\\appdata\\local\\programs\\python\\python311\\lib\\site-packages (from anyio->httpx<1,>=0.23.0->langsmith<0.4,>=0.1.125->langchain-community) (1.3.1)\n",
      "Note: you may need to restart the kernel to use updated packages.\n"
     ]
    },
    {
     "name": "stderr",
     "output_type": "stream",
     "text": [
      "\n",
      "[notice] A new release of pip is available: 24.0 -> 25.0.1\n",
      "[notice] To update, run: python.exe -m pip install --upgrade pip\n"
     ]
    }
   ],
   "source": [
    "%pip install langchain-community\n"
   ]
  },
  {
   "cell_type": "markdown",
   "id": "48e8be8b",
   "metadata": {},
   "source": [
    "## System Design"
   ]
  },
  {
   "cell_type": "code",
   "execution_count": 6,
   "id": "4fdd8897",
   "metadata": {},
   "outputs": [
    {
     "name": "stdout",
     "output_type": "stream",
     "text": [
      "Requirement already satisfied: duckduckgo-search in c:\\users\\juans\\appdata\\local\\programs\\python\\python311\\lib\\site-packages (8.0.1)\n",
      "Requirement already satisfied: click>=8.1.8 in c:\\users\\juans\\appdata\\local\\programs\\python\\python311\\lib\\site-packages (from duckduckgo-search) (8.1.8)\n",
      "Requirement already satisfied: primp>=0.15.0 in c:\\users\\juans\\appdata\\local\\programs\\python\\python311\\lib\\site-packages (from duckduckgo-search) (0.15.0)\n",
      "Requirement already satisfied: lxml>=5.3.0 in c:\\users\\juans\\appdata\\local\\programs\\python\\python311\\lib\\site-packages (from duckduckgo-search) (5.3.2)\n",
      "Requirement already satisfied: colorama in c:\\users\\juans\\appdata\\roaming\\python\\python311\\site-packages (from click>=8.1.8->duckduckgo-search) (0.4.6)\n",
      "Note: you may need to restart the kernel to use updated packages.\n"
     ]
    },
    {
     "name": "stderr",
     "output_type": "stream",
     "text": [
      "\n",
      "[notice] A new release of pip is available: 24.0 -> 25.0.1\n",
      "[notice] To update, run: python.exe -m pip install --upgrade pip\n"
     ]
    }
   ],
   "source": [
    "%pip install -U duckduckgo-search"
   ]
  },
  {
   "cell_type": "code",
   "execution_count": 7,
   "id": "4133bcc4",
   "metadata": {},
   "outputs": [],
   "source": [
    "from langchain_core.prompts import ChatPromptTemplate\n",
    "\n",
    "research_prompt = ChatPromptTemplate.from_messages([\n",
    "    (\"system\", \"You are a research assistant. Find detailed information about the topic.\"),\n",
    "    (\"user\", \"{input}\")\n",
    "])\n",
    "\n",
    "write_prompt = ChatPromptTemplate.from_messages([\n",
    "    (\"system\", \"You are a professional writer. Summarize the following research.\"),\n",
    "    (\"user\", \"{input}\")\n",
    "])\n",
    "\n",
    "review_prompt = ChatPromptTemplate.from_template(\"\"\"\n",
    "Eres un crítico editorial experimentado. Tu tarea es revisar un texto escrito por otro agente. \n",
    "Evalúa si es claro, coherente, correcto, y profesional.\n",
    "\n",
    "Texto a revisar:\n",
    "{output_text}\n",
    "\n",
    "Tu revisión debe incluir:\n",
    "1. Una crítica del contenido.\n",
    "2. Correcciones sugeridas (si las hay).\n",
    "3. Una versión final revisada del texto (si es necesario).\n",
    "\"\"\")"
   ]
  },
  {
   "cell_type": "code",
   "execution_count": 15,
   "id": "229cb8d0",
   "metadata": {},
   "outputs": [],
   "source": [
    "# Herramienta del agente revisor\n",
    "def review_output_agent(input_text: str) -> str:\n",
    "    prompt = review_prompt.format(output_text=input_text)\n",
    "    return llm.invoke(prompt)\n",
    "\n",
    "def write_prompt_agent(input_text: str) -> str:\n",
    "    prompt = write_prompt.format(input=input_text)\n",
    "    return llm.invoke(prompt)"
   ]
  },
  {
   "cell_type": "code",
   "execution_count": 16,
   "id": "56b7458d",
   "metadata": {},
   "outputs": [],
   "source": [
    "from langchain.agents import Tool\n",
    "from langchain.tools import DuckDuckGoSearchRun\n",
    "\n",
    "search = DuckDuckGoSearchRun()\n",
    "\n",
    "search_tool = Tool(\n",
    "    name=\"Search\",\n",
    "    func=search.run,\n",
    "    description=\"Useful for answering questions about current events or general world knowledge\"\n",
    ")\n",
    "\n",
    "write_tool = Tool(\n",
    "    name=\"Write Tool\",\n",
    "    func=write_prompt_agent,\n",
    "    description=\"Escribe un resumen profesional del texto de investigación.\"\n",
    ")\n",
    "\n",
    "review_tool = Tool(\n",
    "    name=\"Review Tool\",\n",
    "    func=review_output_agent,\n",
    "    description=\"Revisa y critica un texto generado por otro agente, proporcionando correcciones y una versión mejorada si es necesario.\"\n",
    ")\n"
   ]
  },
  {
   "cell_type": "markdown",
   "id": "53cefd3f",
   "metadata": {},
   "source": [
    "## Running the Workflow"
   ]
  },
  {
   "cell_type": "code",
   "execution_count": 22,
   "id": "4401bb72",
   "metadata": {},
   "outputs": [],
   "source": [
    "from langchain_core.runnables import RunnableSequence, RunnableLambda\n",
    "from langchain.agents import initialize_agent\n",
    "from langchain.agents.agent_types import AgentType\n",
    "\n",
    "# Paso 1: Agente de investigación\n",
    "research_agent = initialize_agent(\n",
    "    tools=[search_tool],\n",
    "    llm=llm,\n",
    "    agent=AgentType.ZERO_SHOT_REACT_DESCRIPTION,\n",
    "    verbose=True\n",
    ")\n",
    "\n",
    "# Paso 2: Agente de escritura\n",
    "writing_agent = initialize_agent(\n",
    "    tools=[write_tool],\n",
    "    llm=llm,\n",
    "    agent=AgentType.ZERO_SHOT_REACT_DESCRIPTION,\n",
    "    verbose=True\n",
    ")\n",
    "\n",
    "# Paso 3: Agente de revisión\n",
    "review_agent = initialize_agent(\n",
    "    tools=[review_tool],\n",
    "    llm=llm,\n",
    "    agent=AgentType.ZERO_SHOT_REACT_DESCRIPTION,\n",
    "    verbose=True\n",
    ")\n",
    "\n",
    "# Paso 4: Adaptar agentes a runnables con impresión\n",
    "research_chain = RunnableLambda(lambda x: print_and_return(\"🔍 Research Output\", research_agent.run(x)))\n",
    "writing_chain = RunnableLambda(lambda x: print_and_return(\"✍️ Writing Output\", writing_agent.run(x)))\n",
    "review_chain = RunnableLambda(lambda x: print_and_return(\"✅ Review Output\", review_agent.run(x)))\n",
    "\n",
    "# Función auxiliar para imprimir y retornar\n",
    "def print_and_return(label, result):\n",
    "    print(f\"\\n{label}:\\n{result}\\n{'-'*40}\")\n",
    "    return result\n",
    "\n",
    "# Paso 5: Secuencia completa\n",
    "multi_agent_chain = RunnableSequence(\n",
    "    first=research_chain,\n",
    "    middle=[writing_chain],\n",
    "    last=review_chain\n",
    ")\n"
   ]
  },
  {
   "cell_type": "code",
   "execution_count": 23,
   "id": "fe7615b3",
   "metadata": {},
   "outputs": [
    {
     "name": "stdout",
     "output_type": "stream",
     "text": [
      "\n",
      "\n",
      "\u001b[1m> Entering new AgentExecutor chain...\u001b[0m\n",
      "\u001b[32;1m\u001b[1;3mI need to understand the impact of AI on developing countries from an economic perspective.\n",
      "\n",
      "Action: Search\n",
      "Action Input: \"economic impact of AI on developing countries\"\u001b[0m\n",
      "Observation: \u001b[36;1m\u001b[1;3mThe paper is structured as follows: section 2 reviews the literature about the socio-economic impact of AI; ... showcasing a deep divide between developed and developing countries in global AI readiness. According to the 2021 AI Readiness Index, nearly 40% of 160 countries have published or are drafting national AI strategies, indicating that ... The AI revolution's stakes are high, making cooperation across borders essential. No nation can tackle these complex challenges alone. With proactive policies and international support, developing countries can shape the trajectory of AI and maximize its benefits, but they must seize this transformative opportunity now. This paper examines the uneven global impact of AI, highlighting how its effects will be a function of (i) countries' sectoral exposure to AI, (ii) their preparedness to integrate these technologies into their economies, and (iii) their access to essential data and technologies. We feed these three aspects into a multi-sector dynamic general equilibrium model of the global economy and show ... The future of AI in developing countries is filled with potential, yet it also presents substantial challenges. By focusing on strengthening infrastructure, international cooperation, skills development, local innovation, public-private partnerships, and supporting startups, these nations can harness AI to drive sustainable economic and social ... The AI market is projected to reach $4.8 trillion- roughly the size of Germany's economy — but its benefits remain highly concentrated.Up to 40% of global jobs impacted, requiring proactive labour policies.Less than one thirdof developing countries have AI strategies.118 countries lack representationin AI governance, limiting global inclusivity.Developing economies must investin AI ...\u001b[0m\n",
      "Thought:\u001b[32;1m\u001b[1;3mThought: I need to dive deeper into the economic impact of AI on developing countries.\n",
      "\n",
      "Action: Search\n",
      "Action Input: \"economic benefits of AI in developing countries\"\u001b[0m\n",
      "Observation: \u001b[36;1m\u001b[1;3mAI productivity gains are mainly captured by wealthy nations and major tech firms, creating a few global superstar companies. This risks widening the income gap as leading countries reap most of the benefits, leaving developing nations behind. Furthermore, AI could erode the competitive edge of many developing economies reliant on cheap labor. Artificial Intelligence (AI) holds the promise to reshape the future of developing countries, bringing opportunities that could transform economies, public services, and overall quality of life. With AI, these nations have a chance to diversify their economies, moving beyond traditional sectors by integrating AI into industries like ... The AI market is projected to reach $4.8 trillion- roughly the size of Germany's economy — but its benefits remain highly concentrated.Up to 40% of global jobs impacted, requiring proactive labour policies.Less than one thirdof developing countries have AI strategies.118 countries lack representationin AI governance, limiting global inclusivity.Developing economies must investin AI ... The i mpact of Artificial Intelligence (AI) on economic development is both diverse and profound, affecting various sectors through enhanced productivity, innovation, and changes in employment ... 1. Richer countries are better equipped to harness AI's benefits. High-income countries, along with wealthier developing nations, hold a distinct advantage in capturing economic value from AI thanks to superior digital infrastructure, abundant AI development resources, and advanced data systems (Figure 1). Figure 1.\u001b[0m\n",
      "Thought:\u001b[32;1m\u001b[1;3mThought: I now have a good understanding of the economic impact of AI on developing countries.\n",
      "\n",
      "Final Answer: The economic impact of AI on developing countries is complex and multifaceted. While AI holds the promise to transform economies and bring opportunities for growth and development, it also risks exacerbating existing inequalities and widening the income gap between rich and poor nations. Developing countries face significant challenges in harnessing the benefits of AI, including a lack of digital infrastructure, limited access to data and technologies, and insufficient AI development resources. Furthermore, the benefits of AI are highly concentrated, with wealthy nations and major tech firms capturing most of the productivity gains, while developing economies are at risk of being left behind. To mitigate these risks, developing countries must invest in AI, develop proactive labor policies, and prioritize international cooperation and skills development to ensure that they can shape the trajectory of AI and maximize its benefits.\u001b[0m\n",
      "\n",
      "\u001b[1m> Finished chain.\u001b[0m\n",
      "\n",
      "🔍 Research Output:\n",
      "The economic impact of AI on developing countries is complex and multifaceted. While AI holds the promise to transform economies and bring opportunities for growth and development, it also risks exacerbating existing inequalities and widening the income gap between rich and poor nations. Developing countries face significant challenges in harnessing the benefits of AI, including a lack of digital infrastructure, limited access to data and technologies, and insufficient AI development resources. Furthermore, the benefits of AI are highly concentrated, with wealthy nations and major tech firms capturing most of the productivity gains, while developing economies are at risk of being left behind. To mitigate these risks, developing countries must invest in AI, develop proactive labor policies, and prioritize international cooperation and skills development to ensure that they can shape the trajectory of AI and maximize its benefits.\n",
      "----------------------------------------\n",
      "\n",
      "\n",
      "\u001b[1m> Entering new AgentExecutor chain...\u001b[0m\n",
      "\u001b[32;1m\u001b[1;3mThought: I need to summarize the economic impact of AI on developing countries.\n",
      "\n",
      "Action: Write Tool\n",
      "Action Input: The economic impact of AI on developing countries is complex and multifaceted. While AI holds the promise to transform economies and bring opportunities for growth and development, it also risks exacerbating existing inequalities and widening the income gap between rich and poor nations. Developing countries face significant challenges in harnessing the benefits of AI, including a lack of digital infrastructure, limited access to data and technologies, and insufficient AI development resources. Furthermore, the benefits of AI are highly concentrated, with wealthy nations and major tech firms capturing most of the productivity gains, while developing economies are at risk of being left behind. To mitigate these risks, developing countries must invest in AI, develop proactive labor policies, and prioritize international cooperation and skills development to ensure that they can shape the trajectory of AI and maximize its benefits.\n",
      "\u001b[0m\n",
      "Observation: \u001b[36;1m\u001b[1;3mcontent=\"The advent of Artificial Intelligence (AI) brings forth a double-edged sword for developing countries. On one hand, AI has the potential to revolutionize economies and propel growth and development. On the other hand, it may exacerbate existing inequalities and widen the income gap between rich and poor nations.\\n\\nDeveloping countries face significant hurdles in harnessing AI's benefits, including:\\n\\n1. Limited digital infrastructure\\n2. Restricted access to data and technologies\\n3. Insufficient AI development resources\\n\\nMoreover, the benefits of AI are heavily concentrated, with wealthy nations and tech giants reaping most of the productivity gains, leaving developing economies at risk of being left behind.\\n\\nTo mitigate these risks, developing countries must take proactive steps, including:\\n\\n1. Investing in AI development\\n2. Implementing forward-thinking labor policies\\n3. Fostering international cooperation and skills development\\n\\nBy doing so, developing countries can shape the trajectory of AI and maximize its benefits, ensuring they are not left in the dust of technological progress.\" additional_kwargs={} response_metadata={'token_usage': {'completion_tokens': 202, 'prompt_tokens': 183, 'total_tokens': 385, 'completion_time': 0.577142857, 'prompt_time': 0.005601408, 'queue_time': 0.219117049, 'total_time': 0.582744265}, 'model_name': 'llama3-70b-8192', 'system_fingerprint': 'fp_dd4ae1c591', 'finish_reason': 'stop', 'logprobs': None} id='run-f8ec57dc-2eaa-4855-a98e-8141e5b045b9-0' usage_metadata={'input_tokens': 183, 'output_tokens': 202, 'total_tokens': 385}\u001b[0m\n",
      "Thought:\u001b[32;1m\u001b[1;3mThought: I now have a summarized version of the economic impact of AI on developing countries.\n",
      "\n",
      "Final Answer: The economic impact of AI on developing countries is complex and multifaceted, with both promising opportunities for growth and development, as well as risks of exacerbating existing inequalities and widening the income gap. To mitigate these risks, developing countries must invest in AI, develop proactive labor policies, and prioritize international cooperation and skills development.\u001b[0m\n",
      "\n",
      "\u001b[1m> Finished chain.\u001b[0m\n",
      "\n",
      "✍️ Writing Output:\n",
      "The economic impact of AI on developing countries is complex and multifaceted, with both promising opportunities for growth and development, as well as risks of exacerbating existing inequalities and widening the income gap. To mitigate these risks, developing countries must invest in AI, develop proactive labor policies, and prioritize international cooperation and skills development.\n",
      "----------------------------------------\n",
      "\n",
      "\n",
      "\u001b[1m> Entering new AgentExecutor chain...\u001b[0m\n",
      "\u001b[32;1m\u001b[1;3mThought: I need to review and critique the given text to provide a better version if necessary.\n",
      "\n",
      "Action: Review Tool\n",
      "Action Input: The economic impact of AI on developing countries is complex and multifaceted, with both promising opportunities for growth and development, as well as risks of exacerbating existing inequalities and widening the income gap. To mitigate these risks, developing countries must invest in AI, develop proactive labor policies, and prioritize international cooperation and skills development.\u001b[0m\n",
      "Observation: \u001b[36;1m\u001b[1;3mcontent=\"**Crítica del contenido**\\n\\nEl texto analiza el impacto económico del inteligencia artificial (IA) en países en desarrollo, destacando tanto las oportunidades como los riesgos asociados. La estructura del texto es clara y concisa, lo que facilita la comprensión del tema. Sin embargo, hay algunas áreas que podrían ser mejoradas.\\n\\nLa principal debilidad del texto es la falta de profundidad en la discusión de los riesgos y oportunidades. Aunque se mencionan los posibles efectos negativos, no se proporcionan ejemplos o datos para respaldar la afirmación. Además, la sección sobre las soluciones es breve y no se proporcionan detalles sobre cómo implementarlas de manera efectiva.\\n\\n**Correcciones sugeridas**\\n\\n* Agregar ejemplos o datos para respaldar la afirmación sobre los riesgos y oportunidades del impacto económico de la IA en países en desarrollo.\\n* Expandir la sección sobre las soluciones para proporcionar más detalles sobre cómo implementarlas de manera efectiva.\\n* Considerar agregar una oración o párrafo adicional para resaltar la importancia de abordar el impacto económico de la IA en países en desarrollo.\\n\\n**Versión final revisada del texto**\\n\\nThe economic impact of AI on developing countries is complex and multifaceted, with both promising opportunities for growth and development, as well as risks of exacerbating existing inequalities and widening the income gap. For instance, AI could automate jobs, disproportionately affecting low-skilled workers, and exacerbate the digital divide. On the other hand, AI could also increase productivity, improve healthcare outcomes, and enhance access to education. To mitigate these risks, developing countries must invest in AI, develop proactive labor policies, and prioritize international cooperation and skills development. This could involve providing training programs for workers to acquire new skills, implementing policies to protect workers' rights, and fostering partnerships with international organizations to share best practices and expertise. By taking proactive steps, developing countries can harness the benefits of AI while minimizing its negative consequences.\\n\\nNota: He agregado algunos ejemplos y detalles para respaldar la afirmación sobre los riesgos y oportunidades, y también he expandido la sección sobre las soluciones para proporcionar más información sobre cómo implementarlas de manera efectiva.\" additional_kwargs={} response_metadata={'token_usage': {'completion_tokens': 487, 'prompt_tokens': 164, 'total_tokens': 651, 'completion_time': 1.398553763, 'prompt_time': 0.005467779, 'queue_time': 0.225977295, 'total_time': 1.404021542}, 'model_name': 'llama3-70b-8192', 'system_fingerprint': 'fp_dd4ae1c591', 'finish_reason': 'stop', 'logprobs': None} id='run-088a91fb-7556-464f-9c1c-e06f7924b88f-0' usage_metadata={'input_tokens': 164, 'output_tokens': 487, 'total_tokens': 651}\u001b[0m\n",
      "Thought:\u001b[32;1m\u001b[1;3mThought: I now know the final answer.\n",
      "\n",
      "Final Answer: The revised text provided by the Review Tool, which includes additional examples and details to support the discussion of risks and opportunities, as well as an expanded section on solutions to provide more information on how to implement them effectively. The final revised text is:\n",
      "\n",
      "\"The economic impact of AI on developing countries is complex and multifaceted, with both promising opportunities for growth and development, as well as risks of exacerbating existing inequalities and widening the income gap. For instance, AI could automate jobs, disproportionately affecting low-skilled workers, and exacerbate the digital divide. On the other hand, AI could also increase productivity, improve healthcare outcomes, and enhance access to education. To mitigate these risks, developing countries must invest in AI, develop proactive labor policies, and prioritize international cooperation and skills development. This could involve providing training programs for workers to acquire new skills, implementing policies to protect workers' rights, and fostering partnerships with international organizations to share best practices and expertise. By taking proactive steps, developing countries can harness the benefits of AI while minimizing its negative consequences.\"\u001b[0m\n",
      "\n",
      "\u001b[1m> Finished chain.\u001b[0m\n",
      "\n",
      "✅ Review Output:\n",
      "The revised text provided by the Review Tool, which includes additional examples and details to support the discussion of risks and opportunities, as well as an expanded section on solutions to provide more information on how to implement them effectively. The final revised text is:\n",
      "\n",
      "\"The economic impact of AI on developing countries is complex and multifaceted, with both promising opportunities for growth and development, as well as risks of exacerbating existing inequalities and widening the income gap. For instance, AI could automate jobs, disproportionately affecting low-skilled workers, and exacerbate the digital divide. On the other hand, AI could also increase productivity, improve healthcare outcomes, and enhance access to education. To mitigate these risks, developing countries must invest in AI, develop proactive labor policies, and prioritize international cooperation and skills development. This could involve providing training programs for workers to acquire new skills, implementing policies to protect workers' rights, and fostering partnerships with international organizations to share best practices and expertise. By taking proactive steps, developing countries can harness the benefits of AI while minimizing its negative consequences.\"\n",
      "----------------------------------------\n",
      "The revised text provided by the Review Tool, which includes additional examples and details to support the discussion of risks and opportunities, as well as an expanded section on solutions to provide more information on how to implement them effectively. The final revised text is:\n",
      "\n",
      "\"The economic impact of AI on developing countries is complex and multifaceted, with both promising opportunities for growth and development, as well as risks of exacerbating existing inequalities and widening the income gap. For instance, AI could automate jobs, disproportionately affecting low-skilled workers, and exacerbate the digital divide. On the other hand, AI could also increase productivity, improve healthcare outcomes, and enhance access to education. To mitigate these risks, developing countries must invest in AI, develop proactive labor policies, and prioritize international cooperation and skills development. This could involve providing training programs for workers to acquire new skills, implementing policies to protect workers' rights, and fostering partnerships with international organizations to share best practices and expertise. By taking proactive steps, developing countries can harness the benefits of AI while minimizing its negative consequences.\"\n"
     ]
    }
   ],
   "source": [
    "output = multi_agent_chain.invoke({\"input\": \"The economic impact of AI on developing countries\"})\n",
    "print(output)"
   ]
  }
 ],
 "metadata": {
  "language_info": {
   "name": "python"
  }
 },
 "nbformat": 4,
 "nbformat_minor": 5
}
