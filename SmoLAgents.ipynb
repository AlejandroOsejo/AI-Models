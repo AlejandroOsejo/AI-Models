{
 "cells": [
  {
   "cell_type": "markdown",
   "id": "92612494",
   "metadata": {},
   "source": [
    "# Asegúrarse de tener pip actualizado"
   ]
  },
  {
   "cell_type": "markdown",
   "id": "409a7e69",
   "metadata": {},
   "source": [
    "python -m pip install --upgrade pip\n"
   ]
  },
  {
   "cell_type": "markdown",
   "id": "74139ea5",
   "metadata": {},
   "source": [
    "# Instalar dependencias"
   ]
  },
  {
   "cell_type": "markdown",
   "id": "2c6e710d",
   "metadata": {},
   "source": [
    "pip uninstall -y pydantic\n",
    "\n",
    "pip install pydantic==1.10.12\n",
    "\n",
    "pip install smol_dev\n"
   ]
  },
  {
   "cell_type": "code",
   "execution_count": 3,
   "id": "fce34852",
   "metadata": {},
   "outputs": [],
   "source": [
    "import nest_asyncio\n",
    "nest_asyncio.apply()\n"
   ]
  },
  {
   "cell_type": "markdown",
   "id": "670ce3e1",
   "metadata": {},
   "source": [
    "# Configuración de la API key de GROQ"
   ]
  },
  {
   "cell_type": "code",
   "execution_count": 4,
   "id": "318af4aa",
   "metadata": {},
   "outputs": [],
   "source": [
    "import os\n",
    "\n",
    "os.environ[\"GROQ_API_KEY\"] = \"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\"\n"
   ]
  },
  {
   "cell_type": "code",
   "execution_count": 5,
   "id": "0d3ace57",
   "metadata": {},
   "outputs": [],
   "source": [
    "import os\n",
    "\n",
    "os.environ[\"GROQ_API_KEY\"] = \"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\"\n"
   ]
  },
  {
   "cell_type": "markdown",
   "id": "91c914fd",
   "metadata": {},
   "source": [
    "# Crear el primer SmoLAgent"
   ]
  },
  {
   "cell_type": "code",
   "execution_count": null,
   "id": "0e5483e7",
   "metadata": {},
   "outputs": [
    {
     "name": "stdout",
     "output_type": "stream",
     "text": [
      "✅ Proyecto generado exitosamente.\n"
     ]
    }
   ],
   "source": [
    "import os\n",
    "import openai\n",
    "\n",
    "from smol_dev.prompts import plan, specify_file_paths, generate_code_sync\n",
    "from smol_dev.utils import write_file\n",
    "\n",
    "# Configurar el endpoint de Groq como si fuera OpenAI\n",
    "openai.api_base = \"https://api.groq.com/openai/v1\"\n",
    "openai.api_key = os.getenv(\"GROQ_API_KEY\")\n",
    "\n",
    "# Descripción del proyecto\n",
    "prompt = \"Crear un conversor de temperatura entre Celsius, Fahrenheit y Kelvin en la terminal usando Python.\" # El prompt se puede modificar para adaptarse a tus necesidades\n",
    "\n",
    "# Modelo actualizado compatible con Groq\n",
    "groq_model = \"llama-3.3-70b-versatile\"\n",
    "\n",
    "# Carpeta donde guardar el proyecto\n",
    "project_dir = \"C:/Users/aleja/Desktop/Nueva carpeta\" # Cambia esto a la ruta deseada\n",
    "\n",
    "# Generación del proyecto paso a paso\n",
    "shared_deps = plan(prompt, model=groq_model)\n",
    "file_paths = specify_file_paths(prompt, shared_deps, model=groq_model)\n",
    "\n",
    "for file_path in file_paths:\n",
    "    code = generate_code_sync(prompt, shared_deps, file_path, model=groq_model)\n",
    "    full_path = os.path.join(project_dir, file_path)\n",
    "    write_file(full_path, code)\n",
    "\n",
    "print(\"Proyecto generado exitosamente.\")\n"
   ]
  },
  {
   "cell_type": "markdown",
   "id": "1e468b07",
   "metadata": {},
   "source": [
    "# Ejecuta el Script"
   ]
  },
  {
   "cell_type": "markdown",
   "id": "8fa6241a",
   "metadata": {},
   "source": [
    "Dirigete a la carpeta del proyecto desde consola para ver los archivos generados.\n",
    "\n",
    "luego ejecuta *python main.py*"
   ]
  }
 ],
 "metadata": {
  "kernelspec": {
   "display_name": "base",
   "language": "python",
   "name": "python3"
  },
  "language_info": {
   "codemirror_mode": {
    "name": "ipython",
    "version": 3
   },
   "file_extension": ".py",
   "mimetype": "text/x-python",
   "name": "python",
   "nbconvert_exporter": "python",
   "pygments_lexer": "ipython3",
   "version": "3.12.4"
  }
 },
 "nbformat": 4,
 "nbformat_minor": 5
}
