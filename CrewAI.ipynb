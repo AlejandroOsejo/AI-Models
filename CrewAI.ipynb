{
 "cells": [
  {
   "cell_type": "code",
   "execution_count": 8,
   "id": "eb463f7c",
   "metadata": {},
   "outputs": [
    {
     "name": "stdout",
     "output_type": "stream",
     "text": [
      "Requirement already satisfied: crewai in c:\\users\\aleja\\anaconda3\\lib\\site-packages (0.114.0)\n",
      "Requirement already satisfied: langchain in c:\\users\\aleja\\anaconda3\\lib\\site-packages (0.3.23)\n",
      "Requirement already satisfied: litellm in c:\\users\\aleja\\anaconda3\\lib\\site-packages (1.60.2)\n",
      "Requirement already satisfied: appdirs>=1.4.4 in c:\\users\\aleja\\anaconda3\\lib\\site-packages (from crewai) (1.4.4)\n",
      "Requirement already satisfied: auth0-python>=4.7.1 in c:\\users\\aleja\\anaconda3\\lib\\site-packages (from crewai) (4.9.0)\n",
      "Requirement already satisfied: blinker>=1.9.0 in c:\\users\\aleja\\anaconda3\\lib\\site-packages (from crewai) (1.9.0)\n",
      "Requirement already satisfied: chromadb>=0.5.23 in c:\\users\\aleja\\anaconda3\\lib\\site-packages (from crewai) (1.0.5)\n",
      "Requirement already satisfied: click>=8.1.7 in c:\\users\\aleja\\anaconda3\\lib\\site-packages (from crewai) (8.1.8)\n",
      "Requirement already satisfied: instructor>=1.3.3 in c:\\users\\aleja\\anaconda3\\lib\\site-packages (from crewai) (1.7.9)\n",
      "Requirement already satisfied: json-repair>=0.25.2 in c:\\users\\aleja\\anaconda3\\lib\\site-packages (from crewai) (0.41.1)\n",
      "Requirement already satisfied: json5>=0.10.0 in c:\\users\\aleja\\anaconda3\\lib\\site-packages (from crewai) (0.12.0)\n",
      "Requirement already satisfied: jsonref>=1.1.0 in c:\\users\\aleja\\anaconda3\\lib\\site-packages (from crewai) (1.1.0)\n",
      "Requirement already satisfied: openai>=1.13.3 in c:\\users\\aleja\\anaconda3\\lib\\site-packages (from crewai) (1.75.0)\n",
      "Requirement already satisfied: openpyxl>=3.1.5 in c:\\users\\aleja\\anaconda3\\lib\\site-packages (from crewai) (3.1.5)\n",
      "Requirement already satisfied: opentelemetry-api>=1.30.0 in c:\\users\\aleja\\anaconda3\\lib\\site-packages (from crewai) (1.32.1)\n",
      "Requirement already satisfied: opentelemetry-exporter-otlp-proto-http>=1.30.0 in c:\\users\\aleja\\anaconda3\\lib\\site-packages (from crewai) (1.32.1)\n",
      "Requirement already satisfied: opentelemetry-sdk>=1.30.0 in c:\\users\\aleja\\anaconda3\\lib\\site-packages (from crewai) (1.32.1)\n",
      "Requirement already satisfied: pdfplumber>=0.11.4 in c:\\users\\aleja\\anaconda3\\lib\\site-packages (from crewai) (0.11.6)\n",
      "Requirement already satisfied: pydantic>=2.4.2 in c:\\users\\aleja\\anaconda3\\lib\\site-packages (from crewai) (2.11.3)\n",
      "Requirement already satisfied: python-dotenv>=1.0.0 in c:\\users\\aleja\\anaconda3\\lib\\site-packages (from crewai) (1.1.0)\n",
      "Requirement already satisfied: pyvis>=0.3.2 in c:\\users\\aleja\\anaconda3\\lib\\site-packages (from crewai) (0.3.2)\n",
      "Requirement already satisfied: regex>=2024.9.11 in c:\\users\\aleja\\anaconda3\\lib\\site-packages (from crewai) (2024.11.6)\n",
      "Requirement already satisfied: tomli-w>=1.1.0 in c:\\users\\aleja\\anaconda3\\lib\\site-packages (from crewai) (1.2.0)\n",
      "Requirement already satisfied: tomli>=2.0.2 in c:\\users\\aleja\\anaconda3\\lib\\site-packages (from crewai) (2.2.1)\n",
      "Requirement already satisfied: uv>=0.4.25 in c:\\users\\aleja\\anaconda3\\lib\\site-packages (from crewai) (0.6.14)\n",
      "Requirement already satisfied: aiohttp in c:\\users\\aleja\\anaconda3\\lib\\site-packages (from litellm) (3.11.17)\n",
      "Requirement already satisfied: httpx<0.28.0,>=0.23.0 in c:\\users\\aleja\\anaconda3\\lib\\site-packages (from litellm) (0.27.2)\n",
      "Requirement already satisfied: importlib-metadata>=6.8.0 in c:\\users\\aleja\\anaconda3\\lib\\site-packages (from litellm) (7.0.1)\n",
      "Requirement already satisfied: jinja2<4.0.0,>=3.1.2 in c:\\users\\aleja\\anaconda3\\lib\\site-packages (from litellm) (3.1.4)\n",
      "Requirement already satisfied: jsonschema<5.0.0,>=4.22.0 in c:\\users\\aleja\\anaconda3\\lib\\site-packages (from litellm) (4.23.0)\n",
      "Requirement already satisfied: tiktoken>=0.7.0 in c:\\users\\aleja\\anaconda3\\lib\\site-packages (from litellm) (0.9.0)\n",
      "Requirement already satisfied: tokenizers in c:\\users\\aleja\\anaconda3\\lib\\site-packages (from litellm) (0.21.1)\n",
      "Requirement already satisfied: langchain-core<1.0.0,>=0.3.51 in c:\\users\\aleja\\anaconda3\\lib\\site-packages (from langchain) (0.3.54)\n",
      "Requirement already satisfied: langchain-text-splitters<1.0.0,>=0.3.8 in c:\\users\\aleja\\anaconda3\\lib\\site-packages (from langchain) (0.3.8)\n",
      "Requirement already satisfied: langsmith<0.4,>=0.1.17 in c:\\users\\aleja\\anaconda3\\lib\\site-packages (from langchain) (0.3.32)\n",
      "Requirement already satisfied: SQLAlchemy<3,>=1.4 in c:\\users\\aleja\\anaconda3\\lib\\site-packages (from langchain) (2.0.30)\n",
      "Requirement already satisfied: requests<3,>=2 in c:\\users\\aleja\\anaconda3\\lib\\site-packages (from langchain) (2.32.3)\n",
      "Requirement already satisfied: PyYAML>=5.3 in c:\\users\\aleja\\anaconda3\\lib\\site-packages (from langchain) (6.0.1)\n",
      "Requirement already satisfied: cryptography>=43.0.1 in c:\\users\\aleja\\anaconda3\\lib\\site-packages (from auth0-python>=4.7.1->crewai) (44.0.2)\n",
      "Requirement already satisfied: pyjwt>=2.8.0 in c:\\users\\aleja\\anaconda3\\lib\\site-packages (from auth0-python>=4.7.1->crewai) (2.8.0)\n",
      "Requirement already satisfied: urllib3>=2.2.3 in c:\\users\\aleja\\anaconda3\\lib\\site-packages (from auth0-python>=4.7.1->crewai) (2.4.0)\n",
      "Requirement already satisfied: aiohappyeyeballs>=2.3.0 in c:\\users\\aleja\\anaconda3\\lib\\site-packages (from aiohttp->litellm) (2.6.1)\n",
      "Requirement already satisfied: aiosignal>=1.1.2 in c:\\users\\aleja\\anaconda3\\lib\\site-packages (from aiohttp->litellm) (1.2.0)\n",
      "Requirement already satisfied: attrs>=17.3.0 in c:\\users\\aleja\\anaconda3\\lib\\site-packages (from aiohttp->litellm) (23.1.0)\n",
      "Requirement already satisfied: frozenlist>=1.1.1 in c:\\users\\aleja\\anaconda3\\lib\\site-packages (from aiohttp->litellm) (1.4.0)\n",
      "Requirement already satisfied: multidict<7.0,>=4.5 in c:\\users\\aleja\\anaconda3\\lib\\site-packages (from aiohttp->litellm) (6.0.4)\n",
      "Requirement already satisfied: propcache>=0.2.0 in c:\\users\\aleja\\anaconda3\\lib\\site-packages (from aiohttp->litellm) (0.3.1)\n",
      "Requirement already satisfied: yarl<2.0,>=1.17.0 in c:\\users\\aleja\\anaconda3\\lib\\site-packages (from aiohttp->litellm) (1.20.0)\n",
      "Requirement already satisfied: build>=1.0.3 in c:\\users\\aleja\\anaconda3\\lib\\site-packages (from chromadb>=0.5.23->crewai) (1.2.2.post1)\n",
      "Requirement already satisfied: chroma-hnswlib==0.7.6 in c:\\users\\aleja\\anaconda3\\lib\\site-packages (from chromadb>=0.5.23->crewai) (0.7.6)\n",
      "Requirement already satisfied: fastapi==0.115.9 in c:\\users\\aleja\\anaconda3\\lib\\site-packages (from chromadb>=0.5.23->crewai) (0.115.9)\n",
      "Requirement already satisfied: uvicorn>=0.18.3 in c:\\users\\aleja\\anaconda3\\lib\\site-packages (from uvicorn[standard]>=0.18.3->chromadb>=0.5.23->crewai) (0.34.2)\n",
      "Requirement already satisfied: numpy>=1.22.5 in c:\\users\\aleja\\anaconda3\\lib\\site-packages (from chromadb>=0.5.23->crewai) (1.26.4)\n",
      "Requirement already satisfied: posthog>=2.4.0 in c:\\users\\aleja\\anaconda3\\lib\\site-packages (from chromadb>=0.5.23->crewai) (3.25.0)\n",
      "Requirement already satisfied: typing-extensions>=4.5.0 in c:\\users\\aleja\\anaconda3\\lib\\site-packages (from chromadb>=0.5.23->crewai) (4.13.2)\n",
      "Requirement already satisfied: onnxruntime>=1.14.1 in c:\\users\\aleja\\anaconda3\\lib\\site-packages (from chromadb>=0.5.23->crewai) (1.21.1)\n",
      "Requirement already satisfied: opentelemetry-exporter-otlp-proto-grpc>=1.2.0 in c:\\users\\aleja\\anaconda3\\lib\\site-packages (from chromadb>=0.5.23->crewai) (1.32.1)\n",
      "Requirement already satisfied: opentelemetry-instrumentation-fastapi>=0.41b0 in c:\\users\\aleja\\anaconda3\\lib\\site-packages (from chromadb>=0.5.23->crewai) (0.53b1)\n",
      "Requirement already satisfied: pypika>=0.48.9 in c:\\users\\aleja\\anaconda3\\lib\\site-packages (from chromadb>=0.5.23->crewai) (0.48.9)\n",
      "Requirement already satisfied: tqdm>=4.65.0 in c:\\users\\aleja\\anaconda3\\lib\\site-packages (from chromadb>=0.5.23->crewai) (4.66.4)\n",
      "Requirement already satisfied: overrides>=7.3.1 in c:\\users\\aleja\\anaconda3\\lib\\site-packages (from chromadb>=0.5.23->crewai) (7.4.0)\n",
      "Requirement already satisfied: importlib-resources in c:\\users\\aleja\\anaconda3\\lib\\site-packages (from chromadb>=0.5.23->crewai) (6.5.2)\n",
      "Requirement already satisfied: grpcio>=1.58.0 in c:\\users\\aleja\\anaconda3\\lib\\site-packages (from chromadb>=0.5.23->crewai) (1.68.0)\n",
      "Requirement already satisfied: bcrypt>=4.0.1 in c:\\users\\aleja\\anaconda3\\lib\\site-packages (from chromadb>=0.5.23->crewai) (4.3.0)\n",
      "Requirement already satisfied: typer>=0.9.0 in c:\\users\\aleja\\anaconda3\\lib\\site-packages (from chromadb>=0.5.23->crewai) (0.15.2)\n",
      "Requirement already satisfied: kubernetes>=28.1.0 in c:\\users\\aleja\\anaconda3\\lib\\site-packages (from chromadb>=0.5.23->crewai) (32.0.1)\n",
      "Requirement already satisfied: tenacity>=8.2.3 in c:\\users\\aleja\\anaconda3\\lib\\site-packages (from chromadb>=0.5.23->crewai) (9.1.2)\n",
      "Requirement already satisfied: mmh3>=4.0.1 in c:\\users\\aleja\\anaconda3\\lib\\site-packages (from chromadb>=0.5.23->crewai) (5.1.0)\n",
      "Requirement already satisfied: orjson>=3.9.12 in c:\\users\\aleja\\anaconda3\\lib\\site-packages (from chromadb>=0.5.23->crewai) (3.10.16)\n",
      "Requirement already satisfied: rich>=10.11.0 in c:\\users\\aleja\\anaconda3\\lib\\site-packages (from chromadb>=0.5.23->crewai) (13.9.4)\n",
      "Requirement already satisfied: starlette<0.46.0,>=0.40.0 in c:\\users\\aleja\\anaconda3\\lib\\site-packages (from fastapi==0.115.9->chromadb>=0.5.23->crewai) (0.45.3)\n",
      "Requirement already satisfied: colorama in c:\\users\\aleja\\appdata\\roaming\\python\\python312\\site-packages (from click>=8.1.7->crewai) (0.4.6)\n",
      "Requirement already satisfied: anyio in c:\\users\\aleja\\anaconda3\\lib\\site-packages (from httpx<0.28.0,>=0.23.0->litellm) (4.2.0)\n",
      "Requirement already satisfied: certifi in c:\\users\\aleja\\anaconda3\\lib\\site-packages (from httpx<0.28.0,>=0.23.0->litellm) (2024.7.4)\n",
      "Requirement already satisfied: httpcore==1.* in c:\\users\\aleja\\anaconda3\\lib\\site-packages (from httpx<0.28.0,>=0.23.0->litellm) (1.0.2)\n",
      "Requirement already satisfied: idna in c:\\users\\aleja\\anaconda3\\lib\\site-packages (from httpx<0.28.0,>=0.23.0->litellm) (3.7)\n",
      "Requirement already satisfied: sniffio in c:\\users\\aleja\\anaconda3\\lib\\site-packages (from httpx<0.28.0,>=0.23.0->litellm) (1.3.0)\n",
      "Requirement already satisfied: h11<0.15,>=0.13 in c:\\users\\aleja\\anaconda3\\lib\\site-packages (from httpcore==1.*->httpx<0.28.0,>=0.23.0->litellm) (0.14.0)\n",
      "Requirement already satisfied: zipp>=0.5 in c:\\users\\aleja\\anaconda3\\lib\\site-packages (from importlib-metadata>=6.8.0->litellm) (3.17.0)\n",
      "Requirement already satisfied: docstring-parser<1.0,>=0.16 in c:\\users\\aleja\\anaconda3\\lib\\site-packages (from instructor>=1.3.3->crewai) (0.16)\n",
      "Requirement already satisfied: jiter<0.9,>=0.6.1 in c:\\users\\aleja\\anaconda3\\lib\\site-packages (from instructor>=1.3.3->crewai) (0.8.2)\n",
      "Requirement already satisfied: pydantic-core<3.0.0,>=2.18.0 in c:\\users\\aleja\\anaconda3\\lib\\site-packages (from instructor>=1.3.3->crewai) (2.33.1)\n",
      "Requirement already satisfied: MarkupSafe>=2.0 in c:\\users\\aleja\\anaconda3\\lib\\site-packages (from jinja2<4.0.0,>=3.1.2->litellm) (2.1.3)\n",
      "Requirement already satisfied: jsonschema-specifications>=2023.03.6 in c:\\users\\aleja\\anaconda3\\lib\\site-packages (from jsonschema<5.0.0,>=4.22.0->litellm) (2023.7.1)\n",
      "Requirement already satisfied: referencing>=0.28.4 in c:\\users\\aleja\\anaconda3\\lib\\site-packages (from jsonschema<5.0.0,>=4.22.0->litellm) (0.30.2)\n",
      "Requirement already satisfied: rpds-py>=0.7.1 in c:\\users\\aleja\\anaconda3\\lib\\site-packages (from jsonschema<5.0.0,>=4.22.0->litellm) (0.10.6)\n",
      "Requirement already satisfied: jsonpatch<2.0,>=1.33 in c:\\users\\aleja\\anaconda3\\lib\\site-packages (from langchain-core<1.0.0,>=0.3.51->langchain) (1.33)\n",
      "Requirement already satisfied: packaging<25,>=23.2 in c:\\users\\aleja\\anaconda3\\lib\\site-packages (from langchain-core<1.0.0,>=0.3.51->langchain) (23.2)\n",
      "Requirement already satisfied: requests-toolbelt<2.0.0,>=1.0.0 in c:\\users\\aleja\\anaconda3\\lib\\site-packages (from langsmith<0.4,>=0.1.17->langchain) (1.0.0)\n",
      "Requirement already satisfied: zstandard<0.24.0,>=0.23.0 in c:\\users\\aleja\\anaconda3\\lib\\site-packages (from langsmith<0.4,>=0.1.17->langchain) (0.23.0)\n",
      "Requirement already satisfied: distro<2,>=1.7.0 in c:\\users\\aleja\\anaconda3\\lib\\site-packages (from openai>=1.13.3->crewai) (1.9.0)\n",
      "Requirement already satisfied: et-xmlfile in c:\\users\\aleja\\anaconda3\\lib\\site-packages (from openpyxl>=3.1.5->crewai) (1.1.0)\n",
      "Requirement already satisfied: deprecated>=1.2.6 in c:\\users\\aleja\\anaconda3\\lib\\site-packages (from opentelemetry-api>=1.30.0->crewai) (1.2.18)\n",
      "Requirement already satisfied: googleapis-common-protos~=1.52 in c:\\users\\aleja\\anaconda3\\lib\\site-packages (from opentelemetry-exporter-otlp-proto-http>=1.30.0->crewai) (1.70.0)\n",
      "Requirement already satisfied: opentelemetry-exporter-otlp-proto-common==1.32.1 in c:\\users\\aleja\\anaconda3\\lib\\site-packages (from opentelemetry-exporter-otlp-proto-http>=1.30.0->crewai) (1.32.1)\n",
      "Requirement already satisfied: opentelemetry-proto==1.32.1 in c:\\users\\aleja\\anaconda3\\lib\\site-packages (from opentelemetry-exporter-otlp-proto-http>=1.30.0->crewai) (1.32.1)\n",
      "Requirement already satisfied: protobuf<6.0,>=5.0 in c:\\users\\aleja\\anaconda3\\lib\\site-packages (from opentelemetry-proto==1.32.1->opentelemetry-exporter-otlp-proto-http>=1.30.0->crewai) (5.29.4)\n",
      "Requirement already satisfied: opentelemetry-semantic-conventions==0.53b1 in c:\\users\\aleja\\anaconda3\\lib\\site-packages (from opentelemetry-sdk>=1.30.0->crewai) (0.53b1)\n",
      "Requirement already satisfied: pdfminer.six==20250327 in c:\\users\\aleja\\anaconda3\\lib\\site-packages (from pdfplumber>=0.11.4->crewai) (20250327)\n",
      "Requirement already satisfied: Pillow>=9.1 in c:\\users\\aleja\\anaconda3\\lib\\site-packages (from pdfplumber>=0.11.4->crewai) (11.2.1)\n",
      "Requirement already satisfied: pypdfium2>=4.18.0 in c:\\users\\aleja\\anaconda3\\lib\\site-packages (from pdfplumber>=0.11.4->crewai) (4.30.1)\n",
      "Requirement already satisfied: charset-normalizer>=2.0.0 in c:\\users\\aleja\\anaconda3\\lib\\site-packages (from pdfminer.six==20250327->pdfplumber>=0.11.4->crewai) (2.0.4)\n",
      "Requirement already satisfied: annotated-types>=0.6.0 in c:\\users\\aleja\\anaconda3\\lib\\site-packages (from pydantic>=2.4.2->crewai) (0.6.0)\n",
      "Requirement already satisfied: typing-inspection>=0.4.0 in c:\\users\\aleja\\anaconda3\\lib\\site-packages (from pydantic>=2.4.2->crewai) (0.4.0)\n",
      "Requirement already satisfied: ipython>=5.3.0 in c:\\users\\aleja\\appdata\\roaming\\python\\python312\\site-packages (from pyvis>=0.3.2->crewai) (8.27.0)\n",
      "Requirement already satisfied: jsonpickle>=1.4.1 in c:\\users\\aleja\\anaconda3\\lib\\site-packages (from pyvis>=0.3.2->crewai) (4.0.5)\n",
      "Requirement already satisfied: networkx>=1.11 in c:\\users\\aleja\\anaconda3\\lib\\site-packages (from pyvis>=0.3.2->crewai) (3.2.1)\n",
      "Requirement already satisfied: greenlet!=0.4.17 in c:\\users\\aleja\\anaconda3\\lib\\site-packages (from SQLAlchemy<3,>=1.4->langchain) (3.0.1)\n",
      "Requirement already satisfied: huggingface-hub<1.0,>=0.16.4 in c:\\users\\aleja\\anaconda3\\lib\\site-packages (from tokenizers->litellm) (0.30.2)\n",
      "Requirement already satisfied: pyproject_hooks in c:\\users\\aleja\\anaconda3\\lib\\site-packages (from build>=1.0.3->chromadb>=0.5.23->crewai) (1.2.0)\n",
      "Requirement already satisfied: cffi>=1.12 in c:\\users\\aleja\\anaconda3\\lib\\site-packages (from cryptography>=43.0.1->auth0-python>=4.7.1->crewai) (1.16.0)\n",
      "Requirement already satisfied: wrapt<2,>=1.10 in c:\\users\\aleja\\anaconda3\\lib\\site-packages (from deprecated>=1.2.6->opentelemetry-api>=1.30.0->crewai) (1.14.1)\n",
      "Requirement already satisfied: filelock in c:\\users\\aleja\\anaconda3\\lib\\site-packages (from huggingface-hub<1.0,>=0.16.4->tokenizers->litellm) (3.13.1)\n",
      "Requirement already satisfied: fsspec>=2023.5.0 in c:\\users\\aleja\\anaconda3\\lib\\site-packages (from huggingface-hub<1.0,>=0.16.4->tokenizers->litellm) (2024.3.1)\n",
      "Requirement already satisfied: decorator in c:\\users\\aleja\\appdata\\roaming\\python\\python312\\site-packages (from ipython>=5.3.0->pyvis>=0.3.2->crewai) (5.1.1)\n",
      "Requirement already satisfied: jedi>=0.16 in c:\\users\\aleja\\appdata\\roaming\\python\\python312\\site-packages (from ipython>=5.3.0->pyvis>=0.3.2->crewai) (0.19.1)\n",
      "Requirement already satisfied: matplotlib-inline in c:\\users\\aleja\\appdata\\roaming\\python\\python312\\site-packages (from ipython>=5.3.0->pyvis>=0.3.2->crewai) (0.1.7)\n",
      "Requirement already satisfied: prompt-toolkit<3.1.0,>=3.0.41 in c:\\users\\aleja\\appdata\\roaming\\python\\python312\\site-packages (from ipython>=5.3.0->pyvis>=0.3.2->crewai) (3.0.48)\n",
      "Requirement already satisfied: pygments>=2.4.0 in c:\\users\\aleja\\appdata\\roaming\\python\\python312\\site-packages (from ipython>=5.3.0->pyvis>=0.3.2->crewai) (2.18.0)\n",
      "Requirement already satisfied: stack-data in c:\\users\\aleja\\appdata\\roaming\\python\\python312\\site-packages (from ipython>=5.3.0->pyvis>=0.3.2->crewai) (0.6.3)\n",
      "Requirement already satisfied: traitlets>=5.13.0 in c:\\users\\aleja\\appdata\\roaming\\python\\python312\\site-packages (from ipython>=5.3.0->pyvis>=0.3.2->crewai) (5.14.3)\n",
      "Requirement already satisfied: jsonpointer>=1.9 in c:\\users\\aleja\\anaconda3\\lib\\site-packages (from jsonpatch<2.0,>=1.33->langchain-core<1.0.0,>=0.3.51->langchain) (2.1)\n",
      "Requirement already satisfied: six>=1.9.0 in c:\\users\\aleja\\appdata\\roaming\\python\\python312\\site-packages (from kubernetes>=28.1.0->chromadb>=0.5.23->crewai) (1.16.0)\n",
      "Requirement already satisfied: python-dateutil>=2.5.3 in c:\\users\\aleja\\appdata\\roaming\\python\\python312\\site-packages (from kubernetes>=28.1.0->chromadb>=0.5.23->crewai) (2.9.0.post0)\n",
      "Requirement already satisfied: google-auth>=1.0.1 in c:\\users\\aleja\\anaconda3\\lib\\site-packages (from kubernetes>=28.1.0->chromadb>=0.5.23->crewai) (2.39.0)\n",
      "Requirement already satisfied: websocket-client!=0.40.0,!=0.41.*,!=0.42.*,>=0.32.0 in c:\\users\\aleja\\anaconda3\\lib\\site-packages (from kubernetes>=28.1.0->chromadb>=0.5.23->crewai) (1.8.0)\n",
      "Requirement already satisfied: requests-oauthlib in c:\\users\\aleja\\anaconda3\\lib\\site-packages (from kubernetes>=28.1.0->chromadb>=0.5.23->crewai) (2.0.0)\n",
      "Requirement already satisfied: oauthlib>=3.2.2 in c:\\users\\aleja\\anaconda3\\lib\\site-packages (from kubernetes>=28.1.0->chromadb>=0.5.23->crewai) (3.2.2)\n",
      "Requirement already satisfied: durationpy>=0.7 in c:\\users\\aleja\\anaconda3\\lib\\site-packages (from kubernetes>=28.1.0->chromadb>=0.5.23->crewai) (0.9)\n",
      "Requirement already satisfied: coloredlogs in c:\\users\\aleja\\anaconda3\\lib\\site-packages (from onnxruntime>=1.14.1->chromadb>=0.5.23->crewai) (15.0.1)\n",
      "Requirement already satisfied: flatbuffers in c:\\users\\aleja\\anaconda3\\lib\\site-packages (from onnxruntime>=1.14.1->chromadb>=0.5.23->crewai) (24.3.25)\n",
      "Requirement already satisfied: sympy in c:\\users\\aleja\\anaconda3\\lib\\site-packages (from onnxruntime>=1.14.1->chromadb>=0.5.23->crewai) (1.12)\n",
      "Requirement already satisfied: opentelemetry-instrumentation-asgi==0.53b1 in c:\\users\\aleja\\anaconda3\\lib\\site-packages (from opentelemetry-instrumentation-fastapi>=0.41b0->chromadb>=0.5.23->crewai) (0.53b1)\n",
      "Requirement already satisfied: opentelemetry-instrumentation==0.53b1 in c:\\users\\aleja\\anaconda3\\lib\\site-packages (from opentelemetry-instrumentation-fastapi>=0.41b0->chromadb>=0.5.23->crewai) (0.53b1)\n",
      "Requirement already satisfied: opentelemetry-util-http==0.53b1 in c:\\users\\aleja\\anaconda3\\lib\\site-packages (from opentelemetry-instrumentation-fastapi>=0.41b0->chromadb>=0.5.23->crewai) (0.53b1)\n",
      "Requirement already satisfied: asgiref~=3.0 in c:\\users\\aleja\\anaconda3\\lib\\site-packages (from opentelemetry-instrumentation-asgi==0.53b1->opentelemetry-instrumentation-fastapi>=0.41b0->chromadb>=0.5.23->crewai) (3.8.1)\n",
      "Requirement already satisfied: monotonic>=1.5 in c:\\users\\aleja\\anaconda3\\lib\\site-packages (from posthog>=2.4.0->chromadb>=0.5.23->crewai) (1.6)\n",
      "Requirement already satisfied: backoff>=1.10.0 in c:\\users\\aleja\\anaconda3\\lib\\site-packages (from posthog>=2.4.0->chromadb>=0.5.23->crewai) (2.2.1)\n",
      "Requirement already satisfied: markdown-it-py>=2.2.0 in c:\\users\\aleja\\anaconda3\\lib\\site-packages (from rich>=10.11.0->chromadb>=0.5.23->crewai) (2.2.0)\n",
      "Requirement already satisfied: shellingham>=1.3.0 in c:\\users\\aleja\\anaconda3\\lib\\site-packages (from typer>=0.9.0->chromadb>=0.5.23->crewai) (1.5.4)\n",
      "Requirement already satisfied: httptools>=0.6.3 in c:\\users\\aleja\\anaconda3\\lib\\site-packages (from uvicorn[standard]>=0.18.3->chromadb>=0.5.23->crewai) (0.6.4)\n",
      "Requirement already satisfied: watchfiles>=0.13 in c:\\users\\aleja\\anaconda3\\lib\\site-packages (from uvicorn[standard]>=0.18.3->chromadb>=0.5.23->crewai) (1.0.5)\n",
      "Requirement already satisfied: websockets>=10.4 in c:\\users\\aleja\\anaconda3\\lib\\site-packages (from uvicorn[standard]>=0.18.3->chromadb>=0.5.23->crewai) (15.0.1)\n",
      "Requirement already satisfied: pycparser in c:\\users\\aleja\\anaconda3\\lib\\site-packages (from cffi>=1.12->cryptography>=43.0.1->auth0-python>=4.7.1->crewai) (2.21)\n",
      "Requirement already satisfied: cachetools<6.0,>=2.0.0 in c:\\users\\aleja\\anaconda3\\lib\\site-packages (from google-auth>=1.0.1->kubernetes>=28.1.0->chromadb>=0.5.23->crewai) (5.3.3)\n",
      "Requirement already satisfied: pyasn1-modules>=0.2.1 in c:\\users\\aleja\\anaconda3\\lib\\site-packages (from google-auth>=1.0.1->kubernetes>=28.1.0->chromadb>=0.5.23->crewai) (0.2.8)\n",
      "Requirement already satisfied: rsa<5,>=3.1.4 in c:\\users\\aleja\\anaconda3\\lib\\site-packages (from google-auth>=1.0.1->kubernetes>=28.1.0->chromadb>=0.5.23->crewai) (4.9.1)\n",
      "Requirement already satisfied: parso<0.9.0,>=0.8.3 in c:\\users\\aleja\\appdata\\roaming\\python\\python312\\site-packages (from jedi>=0.16->ipython>=5.3.0->pyvis>=0.3.2->crewai) (0.8.4)\n",
      "Requirement already satisfied: mdurl~=0.1 in c:\\users\\aleja\\anaconda3\\lib\\site-packages (from markdown-it-py>=2.2.0->rich>=10.11.0->chromadb>=0.5.23->crewai) (0.1.0)\n",
      "Requirement already satisfied: wcwidth in c:\\users\\aleja\\appdata\\roaming\\python\\python312\\site-packages (from prompt-toolkit<3.1.0,>=3.0.41->ipython>=5.3.0->pyvis>=0.3.2->crewai) (0.2.13)\n",
      "Requirement already satisfied: humanfriendly>=9.1 in c:\\users\\aleja\\anaconda3\\lib\\site-packages (from coloredlogs->onnxruntime>=1.14.1->chromadb>=0.5.23->crewai) (10.0)\n",
      "Requirement already satisfied: executing>=1.2.0 in c:\\users\\aleja\\appdata\\roaming\\python\\python312\\site-packages (from stack-data->ipython>=5.3.0->pyvis>=0.3.2->crewai) (2.1.0)\n",
      "Requirement already satisfied: asttokens>=2.1.0 in c:\\users\\aleja\\appdata\\roaming\\python\\python312\\site-packages (from stack-data->ipython>=5.3.0->pyvis>=0.3.2->crewai) (2.4.1)\n",
      "Requirement already satisfied: pure-eval in c:\\users\\aleja\\appdata\\roaming\\python\\python312\\site-packages (from stack-data->ipython>=5.3.0->pyvis>=0.3.2->crewai) (0.2.3)\n",
      "Requirement already satisfied: mpmath>=0.19 in c:\\users\\aleja\\anaconda3\\lib\\site-packages (from sympy->onnxruntime>=1.14.1->chromadb>=0.5.23->crewai) (1.3.0)\n",
      "Requirement already satisfied: pyreadline3 in c:\\users\\aleja\\anaconda3\\lib\\site-packages (from humanfriendly>=9.1->coloredlogs->onnxruntime>=1.14.1->chromadb>=0.5.23->crewai) (3.5.4)\n",
      "Requirement already satisfied: pyasn1<0.5.0,>=0.4.6 in c:\\users\\aleja\\anaconda3\\lib\\site-packages (from pyasn1-modules>=0.2.1->google-auth>=1.0.1->kubernetes>=28.1.0->chromadb>=0.5.23->crewai) (0.4.8)\n",
      "Note: you may need to restart the kernel to use updated packages.\n"
     ]
    }
   ],
   "source": [
    "%pip install crewai langchain litellm\n"
   ]
  },
  {
   "cell_type": "code",
   "execution_count": 9,
   "id": "6e96bccd",
   "metadata": {},
   "outputs": [],
   "source": [
    "import os\n",
    "\n",
    "os.environ[\"GROQ_API_KEY\"] = \"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\"\n",
    "os.environ[\"OPENAI_API_KEY\"] = os.environ[\"GROQ_API_KEY\"]  # requerido por LiteLLM\n"
   ]
  },
  {
   "cell_type": "code",
   "execution_count": 12,
   "id": "be1527dc",
   "metadata": {},
   "outputs": [],
   "source": [
    "from langchain_community.chat_models import ChatLiteLLM\n",
    "\n",
    "llm = ChatLiteLLM(\n",
    "    model=\"groq/llama3-8b-8192\",  # ✅ modelo vigente\n",
    "    temperature=0.7\n",
    ")\n"
   ]
  },
  {
   "cell_type": "code",
   "execution_count": 13,
   "id": "9ef0d669",
   "metadata": {},
   "outputs": [
    {
     "data": {
      "text/html": [
       "<pre style=\"white-space:pre;overflow-x:auto;line-height:normal;font-family:Menlo,'DejaVu Sans Mono',consolas,'Courier New',monospace\"><span style=\"color: #008080; text-decoration-color: #008080\">╭──────────────────────────────────────────── Crew Execution Started ─────────────────────────────────────────────╮</span>\n",
       "<span style=\"color: #008080; text-decoration-color: #008080\">│</span>                                                                                                                 <span style=\"color: #008080; text-decoration-color: #008080\">│</span>\n",
       "<span style=\"color: #008080; text-decoration-color: #008080\">│</span>  <span style=\"color: #008080; text-decoration-color: #008080; font-weight: bold\">Crew Execution Started</span>                                                                                         <span style=\"color: #008080; text-decoration-color: #008080\">│</span>\n",
       "<span style=\"color: #008080; text-decoration-color: #008080\">│</span>  <span style=\"color: #c0c0c0; text-decoration-color: #c0c0c0\">Name: </span><span style=\"color: #008080; text-decoration-color: #008080\">crew</span>                                                                                                     <span style=\"color: #008080; text-decoration-color: #008080\">│</span>\n",
       "<span style=\"color: #008080; text-decoration-color: #008080\">│</span>  <span style=\"color: #c0c0c0; text-decoration-color: #c0c0c0\">ID: </span><span style=\"color: #008080; text-decoration-color: #008080\">8410044a-5bd5-466a-a38e-726f52d44c6c</span>                                                                       <span style=\"color: #008080; text-decoration-color: #008080\">│</span>\n",
       "<span style=\"color: #008080; text-decoration-color: #008080\">│</span>                                                                                                                 <span style=\"color: #008080; text-decoration-color: #008080\">│</span>\n",
       "<span style=\"color: #008080; text-decoration-color: #008080\">│</span>                                                                                                                 <span style=\"color: #008080; text-decoration-color: #008080\">│</span>\n",
       "<span style=\"color: #008080; text-decoration-color: #008080\">╰─────────────────────────────────────────────────────────────────────────────────────────────────────────────────╯</span>\n",
       "</pre>\n"
      ],
      "text/plain": [
       "\u001b[36m╭─\u001b[0m\u001b[36m───────────────────────────────────────────\u001b[0m\u001b[36m Crew Execution Started \u001b[0m\u001b[36m────────────────────────────────────────────\u001b[0m\u001b[36m─╮\u001b[0m\n",
       "\u001b[36m│\u001b[0m                                                                                                                 \u001b[36m│\u001b[0m\n",
       "\u001b[36m│\u001b[0m  \u001b[1;36mCrew Execution Started\u001b[0m                                                                                         \u001b[36m│\u001b[0m\n",
       "\u001b[36m│\u001b[0m  \u001b[37mName: \u001b[0m\u001b[36mcrew\u001b[0m                                                                                                     \u001b[36m│\u001b[0m\n",
       "\u001b[36m│\u001b[0m  \u001b[37mID: \u001b[0m\u001b[36m8410044a-5bd5-466a-a38e-726f52d44c6c\u001b[0m                                                                       \u001b[36m│\u001b[0m\n",
       "\u001b[36m│\u001b[0m                                                                                                                 \u001b[36m│\u001b[0m\n",
       "\u001b[36m│\u001b[0m                                                                                                                 \u001b[36m│\u001b[0m\n",
       "\u001b[36m╰─────────────────────────────────────────────────────────────────────────────────────────────────────────────────╯\u001b[0m\n"
      ]
     },
     "metadata": {},
     "output_type": "display_data"
    },
    {
     "data": {
      "text/html": [
       "<pre style=\"white-space:pre;overflow-x:auto;line-height:normal;font-family:Menlo,'DejaVu Sans Mono',consolas,'Courier New',monospace\">\n",
       "</pre>\n"
      ],
      "text/plain": [
       "\n"
      ]
     },
     "metadata": {},
     "output_type": "display_data"
    },
    {
     "data": {
      "text/html": [
       "<pre style=\"white-space:pre;overflow-x:auto;line-height:normal;font-family:Menlo,'DejaVu Sans Mono',consolas,'Courier New',monospace\"><span style=\"color: #008080; text-decoration-color: #008080; font-weight: bold\">🚀 Crew: crew</span>\n",
       "└── <span style=\"color: #808000; text-decoration-color: #808000; font-weight: bold\">📋 Task: 42a5bc2d-20c6-432c-89e8-f5d73d4ac5a1</span>\n",
       "    <span style=\"color: #c0c0c0; text-decoration-color: #c0c0c0\">   Status: </span><span style=\"color: #bfbf7f; text-decoration-color: #bfbf7f\">Executing Task...</span>\n",
       "</pre>\n"
      ],
      "text/plain": [
       "\u001b[1;36m🚀 Crew: \u001b[0m\u001b[1;36mcrew\u001b[0m\n",
       "└── \u001b[1;33m📋 Task: 42a5bc2d-20c6-432c-89e8-f5d73d4ac5a1\u001b[0m\n",
       "    \u001b[37m   Status: \u001b[0m\u001b[2;33mExecuting Task...\u001b[0m\n"
      ]
     },
     "metadata": {},
     "output_type": "display_data"
    },
    {
     "data": {
      "text/html": [
       "<pre style=\"white-space:pre;overflow-x:auto;line-height:normal;font-family:Menlo,'DejaVu Sans Mono',consolas,'Courier New',monospace\">\n",
       "</pre>\n"
      ],
      "text/plain": [
       "\n"
      ]
     },
     "metadata": {},
     "output_type": "display_data"
    },
    {
     "data": {
      "text/html": [
       "<pre style=\"white-space:pre;overflow-x:auto;line-height:normal;font-family:Menlo,'DejaVu Sans Mono',consolas,'Courier New',monospace\"><span style=\"color: #008080; text-decoration-color: #008080; font-weight: bold\">🚀 Crew: crew</span>\n",
       "└── <span style=\"color: #808000; text-decoration-color: #808000; font-weight: bold\">📋 Task: 42a5bc2d-20c6-432c-89e8-f5d73d4ac5a1</span>\n",
       "    <span style=\"color: #c0c0c0; text-decoration-color: #c0c0c0\">   Status: </span><span style=\"color: #bfbf7f; text-decoration-color: #bfbf7f\">Executing Task...</span>\n",
       "    └── <span style=\"color: #008000; text-decoration-color: #008000; font-weight: bold\">🤖 Agent: </span><span style=\"color: #008000; text-decoration-color: #008000\">Investigador histórico</span>\n",
       "        <span style=\"color: #c0c0c0; text-decoration-color: #c0c0c0\">    Status: </span><span style=\"color: #008000; text-decoration-color: #008000; font-weight: bold\">In Progress</span>\n",
       "</pre>\n"
      ],
      "text/plain": [
       "\u001b[1;36m🚀 Crew: \u001b[0m\u001b[1;36mcrew\u001b[0m\n",
       "└── \u001b[1;33m📋 Task: 42a5bc2d-20c6-432c-89e8-f5d73d4ac5a1\u001b[0m\n",
       "    \u001b[37m   Status: \u001b[0m\u001b[2;33mExecuting Task...\u001b[0m\n",
       "    └── \u001b[1;32m🤖 Agent: \u001b[0m\u001b[32mInvestigador histórico\u001b[0m\n",
       "        \u001b[37m    Status: \u001b[0m\u001b[1;32mIn Progress\u001b[0m\n"
      ]
     },
     "metadata": {},
     "output_type": "display_data"
    },
    {
     "data": {
      "text/html": [
       "<pre style=\"white-space:pre;overflow-x:auto;line-height:normal;font-family:Menlo,'DejaVu Sans Mono',consolas,'Courier New',monospace\">\n",
       "</pre>\n"
      ],
      "text/plain": [
       "\n"
      ]
     },
     "metadata": {},
     "output_type": "display_data"
    },
    {
     "name": "stdout",
     "output_type": "stream",
     "text": [
      "\u001b[1m\u001b[95m# Agent:\u001b[00m \u001b[1m\u001b[92mInvestigador histórico\u001b[00m\n",
      "\u001b[95m## Task:\u001b[00m \u001b[92mInvestiga datos importantes sobre la vida y logros de Alan Turing.\u001b[00m\n",
      "\n",
      "\n",
      "\u001b[1m\u001b[95m# Agent:\u001b[00m \u001b[1m\u001b[92mInvestigador histórico\u001b[00m\n",
      "\u001b[95m## Final Answer:\u001b[00m \u001b[92m\n",
      "**Logros y Contribuciones de Alan Turing:**\n",
      "\n",
      "1. **Colaboración en la codificación del Enigma**: Turing trabajó en el Grupo de Código y Cifrado del Governo británico, donde contribuyó a la codificación del sistema de cifrado Enigma, utilizado por los alemanes durante la Segunda Guerra Mundial. Su trabajo fue fundamental para descifrar los códigos alemanes y obtener información valiosa sobre las operaciones militares enemigas.\n",
      "2. **Descubrimiento del algoritmo de la máquina de Turing**: En 1936, Turing propuso el concepto de la máquina de Turing, una abstracción matemática de un computador que podría realizar cualquier cálculo que se pudiera realizar con una máquina. Esta idea revolucionaria estableció los fundamentos de la teoría de la computación y la programación.\n",
      "3. **Contribución al desarrollo de la computadora**: Turing trabajó en el desarrollo de la computadora Colossus, la primera computadora electrónica, en el Laboratorio Nacional de Física en Bletchley Park, Reino Unido. Su diseño y programación de la computadora permitieron a los británicos descifrar los códigos enemigos más rápidamente y con mayor eficacia.\n",
      "4. **Teoría de la computación y la teoría de la complejidad**: Turing desarrolló la teoría de la computación, que describe los límites de lo que puede ser calculado por una máquina. También trabajó en la teoría de la complejidad computacional, que estudia la complejidad de los algoritmos.\n",
      "5. **Contribución a la criptografía y la seguridad de la información**: Turing realizó importantes contribuciones a la criptografía y la seguridad de la información, incluyendo el desarrollo de algoritmos de cifrado y la creación de sistemas de autenticación.\n",
      "\n",
      "**Fechas Importantes:**\n",
      "\n",
      "* 1912: Nacimiento de Alan Turing en Maida Vale, Londres, Reino Unido\n",
      "* 1936: Publicación de \"On Computable Numbers\" (Sobre Números Computables), en la que presenta el concepto de la máquina de Turing\n",
      "* 1939: Comienza a trabajar en el Grupo de Código y Cifrado del Gobierno británico\n",
      "* 1940: Desarrolla la máquina de bombe, una máquina de cifrado utilizada para descifrar los códigos alemanes\n",
      "* 1945: Termina su trabajo en el Laboratorio Nacional de Física en Bletchley Park\n",
      "* 1952: Es condenado por indecencia con un hombre y es sometido a tratamiento hormonal\n",
      "* 1954: Muerte de Alan Turing\n",
      "\n",
      "**Contexto Histórico:**\n",
      "\n",
      "La vida y el trabajo de Alan Turing se desarrollaron en un momento crítico de la historia. La Segunda Guerra Mundial y el conflicto entre la Alemania nazi y los Aliados occidentales crearon un ambiente de tensión y riesgo. Turing trabajó en el Grupo de Código y Cifrado del Gobierno británico, donde contribuyó a la codificación del sistema de cifrado Enigma y a la descodificación de los códigos alemanes. Su trabajo fue fundamental para el esfuerzo de guerra británico y para la victoria aliada.\n",
      "\n",
      "Después de la guerra, Turing continuó trabajando en la teoría de la computación y la criptografía. Sin embargo, su orientación sexual y su relación con un hombre le valieron problemas y finalmente, en 1952, fue condenado por indecencia con un hombre y sometido a tratamiento hormonal. Su muerte en 1954 fue considerada un suicidio, aunque algunos han cuestionado esta versión.\n",
      "\n",
      "En la actualidad, Alan Turing es ampliamente reconocido como un genio matemático y un héroe de la Segunda Guerra Mundial. Su legado continúa inspirando a científicos y estudiantes de todo el mundo.\u001b[00m\n",
      "\n",
      "\n"
     ]
    },
    {
     "data": {
      "text/html": [
       "<pre style=\"white-space:pre;overflow-x:auto;line-height:normal;font-family:Menlo,'DejaVu Sans Mono',consolas,'Courier New',monospace\"><span style=\"color: #008080; text-decoration-color: #008080; font-weight: bold\">🚀 Crew: crew</span>\n",
       "└── <span style=\"color: #808000; text-decoration-color: #808000; font-weight: bold\">📋 Task: 42a5bc2d-20c6-432c-89e8-f5d73d4ac5a1</span>\n",
       "    <span style=\"color: #c0c0c0; text-decoration-color: #c0c0c0\">   Status: </span><span style=\"color: #bfbf7f; text-decoration-color: #bfbf7f\">Executing Task...</span>\n",
       "    └── <span style=\"color: #008000; text-decoration-color: #008000; font-weight: bold\">🤖 Agent: </span><span style=\"color: #008000; text-decoration-color: #008000\">Investigador histórico</span>\n",
       "        <span style=\"color: #c0c0c0; text-decoration-color: #c0c0c0\">    Status: </span><span style=\"color: #008000; text-decoration-color: #008000; font-weight: bold\">✅ Completed</span>\n",
       "</pre>\n"
      ],
      "text/plain": [
       "\u001b[1;36m🚀 Crew: \u001b[0m\u001b[1;36mcrew\u001b[0m\n",
       "└── \u001b[1;33m📋 Task: 42a5bc2d-20c6-432c-89e8-f5d73d4ac5a1\u001b[0m\n",
       "    \u001b[37m   Status: \u001b[0m\u001b[2;33mExecuting Task...\u001b[0m\n",
       "    └── \u001b[1;32m🤖 Agent: \u001b[0m\u001b[32mInvestigador histórico\u001b[0m\n",
       "        \u001b[37m    Status: \u001b[0m\u001b[1;32m✅ Completed\u001b[0m\n"
      ]
     },
     "metadata": {},
     "output_type": "display_data"
    },
    {
     "data": {
      "text/html": [
       "<pre style=\"white-space:pre;overflow-x:auto;line-height:normal;font-family:Menlo,'DejaVu Sans Mono',consolas,'Courier New',monospace\">\n",
       "</pre>\n"
      ],
      "text/plain": [
       "\n"
      ]
     },
     "metadata": {},
     "output_type": "display_data"
    },
    {
     "data": {
      "text/html": [
       "<pre style=\"white-space:pre;overflow-x:auto;line-height:normal;font-family:Menlo,'DejaVu Sans Mono',consolas,'Courier New',monospace\"><span style=\"color: #008080; text-decoration-color: #008080; font-weight: bold\">🚀 Crew: crew</span>\n",
       "└── <span style=\"color: #008000; text-decoration-color: #008000; font-weight: bold\">📋 Task: 42a5bc2d-20c6-432c-89e8-f5d73d4ac5a1</span>\n",
       "    <span style=\"color: #c0c0c0; text-decoration-color: #c0c0c0\">   Assigned to: </span><span style=\"color: #008000; text-decoration-color: #008000\">Investigador histórico</span>\n",
       "    <span style=\"color: #c0c0c0; text-decoration-color: #c0c0c0\">   Status: </span><span style=\"color: #008000; text-decoration-color: #008000; font-weight: bold\">✅ Completed</span>\n",
       "    └── <span style=\"color: #008000; text-decoration-color: #008000; font-weight: bold\">🤖 Agent: </span><span style=\"color: #008000; text-decoration-color: #008000\">Investigador histórico</span>\n",
       "        <span style=\"color: #c0c0c0; text-decoration-color: #c0c0c0\">    Status: </span><span style=\"color: #008000; text-decoration-color: #008000; font-weight: bold\">✅ Completed</span>\n",
       "</pre>\n"
      ],
      "text/plain": [
       "\u001b[1;36m🚀 Crew: \u001b[0m\u001b[1;36mcrew\u001b[0m\n",
       "└── \u001b[1;32m📋 Task: 42a5bc2d-20c6-432c-89e8-f5d73d4ac5a1\u001b[0m\n",
       "    \u001b[37m   Assigned to: \u001b[0m\u001b[32mInvestigador histórico\u001b[0m\n",
       "    \u001b[37m   Status: \u001b[0m\u001b[1;32m✅ Completed\u001b[0m\n",
       "    └── \u001b[1;32m🤖 Agent: \u001b[0m\u001b[32mInvestigador histórico\u001b[0m\n",
       "        \u001b[37m    Status: \u001b[0m\u001b[1;32m✅ Completed\u001b[0m\n"
      ]
     },
     "metadata": {},
     "output_type": "display_data"
    },
    {
     "data": {
      "text/html": [
       "<pre style=\"white-space:pre;overflow-x:auto;line-height:normal;font-family:Menlo,'DejaVu Sans Mono',consolas,'Courier New',monospace\"><span style=\"color: #008000; text-decoration-color: #008000\">╭──────────────────────────────────────────────── Task Completion ────────────────────────────────────────────────╮</span>\n",
       "<span style=\"color: #008000; text-decoration-color: #008000\">│</span>                                                                                                                 <span style=\"color: #008000; text-decoration-color: #008000\">│</span>\n",
       "<span style=\"color: #008000; text-decoration-color: #008000\">│</span>  <span style=\"color: #008000; text-decoration-color: #008000; font-weight: bold\">Task Completed</span>                                                                                                 <span style=\"color: #008000; text-decoration-color: #008000\">│</span>\n",
       "<span style=\"color: #008000; text-decoration-color: #008000\">│</span>  <span style=\"color: #c0c0c0; text-decoration-color: #c0c0c0\">Name: </span><span style=\"color: #008000; text-decoration-color: #008000\">42a5bc2d-20c6-432c-89e8-f5d73d4ac5a1</span>                                                                     <span style=\"color: #008000; text-decoration-color: #008000\">│</span>\n",
       "<span style=\"color: #008000; text-decoration-color: #008000\">│</span>  <span style=\"color: #c0c0c0; text-decoration-color: #c0c0c0\">Agent: </span><span style=\"color: #008000; text-decoration-color: #008000\">Investigador histórico</span>                                                                                  <span style=\"color: #008000; text-decoration-color: #008000\">│</span>\n",
       "<span style=\"color: #008000; text-decoration-color: #008000\">│</span>                                                                                                                 <span style=\"color: #008000; text-decoration-color: #008000\">│</span>\n",
       "<span style=\"color: #008000; text-decoration-color: #008000\">│</span>                                                                                                                 <span style=\"color: #008000; text-decoration-color: #008000\">│</span>\n",
       "<span style=\"color: #008000; text-decoration-color: #008000\">╰─────────────────────────────────────────────────────────────────────────────────────────────────────────────────╯</span>\n",
       "</pre>\n"
      ],
      "text/plain": [
       "\u001b[32m╭─\u001b[0m\u001b[32m───────────────────────────────────────────────\u001b[0m\u001b[32m Task Completion \u001b[0m\u001b[32m───────────────────────────────────────────────\u001b[0m\u001b[32m─╮\u001b[0m\n",
       "\u001b[32m│\u001b[0m                                                                                                                 \u001b[32m│\u001b[0m\n",
       "\u001b[32m│\u001b[0m  \u001b[1;32mTask Completed\u001b[0m                                                                                                 \u001b[32m│\u001b[0m\n",
       "\u001b[32m│\u001b[0m  \u001b[37mName: \u001b[0m\u001b[32m42a5bc2d-20c6-432c-89e8-f5d73d4ac5a1\u001b[0m                                                                     \u001b[32m│\u001b[0m\n",
       "\u001b[32m│\u001b[0m  \u001b[37mAgent: \u001b[0m\u001b[32mInvestigador histórico\u001b[0m                                                                                  \u001b[32m│\u001b[0m\n",
       "\u001b[32m│\u001b[0m                                                                                                                 \u001b[32m│\u001b[0m\n",
       "\u001b[32m│\u001b[0m                                                                                                                 \u001b[32m│\u001b[0m\n",
       "\u001b[32m╰─────────────────────────────────────────────────────────────────────────────────────────────────────────────────╯\u001b[0m\n"
      ]
     },
     "metadata": {},
     "output_type": "display_data"
    },
    {
     "data": {
      "text/html": [
       "<pre style=\"white-space:pre;overflow-x:auto;line-height:normal;font-family:Menlo,'DejaVu Sans Mono',consolas,'Courier New',monospace\">\n",
       "</pre>\n"
      ],
      "text/plain": [
       "\n"
      ]
     },
     "metadata": {},
     "output_type": "display_data"
    },
    {
     "data": {
      "text/html": [
       "<pre style=\"white-space:pre;overflow-x:auto;line-height:normal;font-family:Menlo,'DejaVu Sans Mono',consolas,'Courier New',monospace\"><span style=\"color: #008080; text-decoration-color: #008080; font-weight: bold\">🚀 Crew: crew</span>\n",
       "├── <span style=\"color: #008000; text-decoration-color: #008000; font-weight: bold\">📋 Task: 42a5bc2d-20c6-432c-89e8-f5d73d4ac5a1</span>\n",
       "│   <span style=\"color: #c0c0c0; text-decoration-color: #c0c0c0\">   Assigned to: </span><span style=\"color: #008000; text-decoration-color: #008000\">Investigador histórico</span>\n",
       "│   <span style=\"color: #c0c0c0; text-decoration-color: #c0c0c0\">   Status: </span><span style=\"color: #008000; text-decoration-color: #008000; font-weight: bold\">✅ Completed</span>\n",
       "│   └── <span style=\"color: #008000; text-decoration-color: #008000; font-weight: bold\">🤖 Agent: </span><span style=\"color: #008000; text-decoration-color: #008000\">Investigador histórico</span>\n",
       "│       <span style=\"color: #c0c0c0; text-decoration-color: #c0c0c0\">    Status: </span><span style=\"color: #008000; text-decoration-color: #008000; font-weight: bold\">✅ Completed</span>\n",
       "└── <span style=\"color: #808000; text-decoration-color: #808000; font-weight: bold\">📋 Task: f86795a5-ad4d-4b82-b659-5df0a2d19877</span>\n",
       "    <span style=\"color: #c0c0c0; text-decoration-color: #c0c0c0\">   Status: </span><span style=\"color: #bfbf7f; text-decoration-color: #bfbf7f\">Executing Task...</span>\n",
       "</pre>\n"
      ],
      "text/plain": [
       "\u001b[1;36m🚀 Crew: \u001b[0m\u001b[1;36mcrew\u001b[0m\n",
       "├── \u001b[1;32m📋 Task: 42a5bc2d-20c6-432c-89e8-f5d73d4ac5a1\u001b[0m\n",
       "│   \u001b[37m   Assigned to: \u001b[0m\u001b[32mInvestigador histórico\u001b[0m\n",
       "│   \u001b[37m   Status: \u001b[0m\u001b[1;32m✅ Completed\u001b[0m\n",
       "│   └── \u001b[1;32m🤖 Agent: \u001b[0m\u001b[32mInvestigador histórico\u001b[0m\n",
       "│       \u001b[37m    Status: \u001b[0m\u001b[1;32m✅ Completed\u001b[0m\n",
       "└── \u001b[1;33m📋 Task: f86795a5-ad4d-4b82-b659-5df0a2d19877\u001b[0m\n",
       "    \u001b[37m   Status: \u001b[0m\u001b[2;33mExecuting Task...\u001b[0m\n"
      ]
     },
     "metadata": {},
     "output_type": "display_data"
    },
    {
     "data": {
      "text/html": [
       "<pre style=\"white-space:pre;overflow-x:auto;line-height:normal;font-family:Menlo,'DejaVu Sans Mono',consolas,'Courier New',monospace\">\n",
       "</pre>\n"
      ],
      "text/plain": [
       "\n"
      ]
     },
     "metadata": {},
     "output_type": "display_data"
    },
    {
     "data": {
      "text/html": [
       "<pre style=\"white-space:pre;overflow-x:auto;line-height:normal;font-family:Menlo,'DejaVu Sans Mono',consolas,'Courier New',monospace\"><span style=\"color: #008080; text-decoration-color: #008080; font-weight: bold\">🚀 Crew: crew</span>\n",
       "├── <span style=\"color: #008000; text-decoration-color: #008000; font-weight: bold\">📋 Task: 42a5bc2d-20c6-432c-89e8-f5d73d4ac5a1</span>\n",
       "│   <span style=\"color: #c0c0c0; text-decoration-color: #c0c0c0\">   Assigned to: </span><span style=\"color: #008000; text-decoration-color: #008000\">Investigador histórico</span>\n",
       "│   <span style=\"color: #c0c0c0; text-decoration-color: #c0c0c0\">   Status: </span><span style=\"color: #008000; text-decoration-color: #008000; font-weight: bold\">✅ Completed</span>\n",
       "│   └── <span style=\"color: #008000; text-decoration-color: #008000; font-weight: bold\">🤖 Agent: </span><span style=\"color: #008000; text-decoration-color: #008000\">Investigador histórico</span>\n",
       "│       <span style=\"color: #c0c0c0; text-decoration-color: #c0c0c0\">    Status: </span><span style=\"color: #008000; text-decoration-color: #008000; font-weight: bold\">✅ Completed</span>\n",
       "└── <span style=\"color: #808000; text-decoration-color: #808000; font-weight: bold\">📋 Task: f86795a5-ad4d-4b82-b659-5df0a2d19877</span>\n",
       "    <span style=\"color: #c0c0c0; text-decoration-color: #c0c0c0\">   Status: </span><span style=\"color: #bfbf7f; text-decoration-color: #bfbf7f\">Executing Task...</span>\n",
       "    └── <span style=\"color: #008000; text-decoration-color: #008000; font-weight: bold\">🤖 Agent: </span><span style=\"color: #008000; text-decoration-color: #008000\">Redactor académico</span>\n",
       "        <span style=\"color: #c0c0c0; text-decoration-color: #c0c0c0\">    Status: </span><span style=\"color: #008000; text-decoration-color: #008000; font-weight: bold\">In Progress</span>\n",
       "</pre>\n"
      ],
      "text/plain": [
       "\u001b[1;36m🚀 Crew: \u001b[0m\u001b[1;36mcrew\u001b[0m\n",
       "├── \u001b[1;32m📋 Task: 42a5bc2d-20c6-432c-89e8-f5d73d4ac5a1\u001b[0m\n",
       "│   \u001b[37m   Assigned to: \u001b[0m\u001b[32mInvestigador histórico\u001b[0m\n",
       "│   \u001b[37m   Status: \u001b[0m\u001b[1;32m✅ Completed\u001b[0m\n",
       "│   └── \u001b[1;32m🤖 Agent: \u001b[0m\u001b[32mInvestigador histórico\u001b[0m\n",
       "│       \u001b[37m    Status: \u001b[0m\u001b[1;32m✅ Completed\u001b[0m\n",
       "└── \u001b[1;33m📋 Task: f86795a5-ad4d-4b82-b659-5df0a2d19877\u001b[0m\n",
       "    \u001b[37m   Status: \u001b[0m\u001b[2;33mExecuting Task...\u001b[0m\n",
       "    └── \u001b[1;32m🤖 Agent: \u001b[0m\u001b[32mRedactor académico\u001b[0m\n",
       "        \u001b[37m    Status: \u001b[0m\u001b[1;32mIn Progress\u001b[0m\n"
      ]
     },
     "metadata": {},
     "output_type": "display_data"
    },
    {
     "data": {
      "text/html": [
       "<pre style=\"white-space:pre;overflow-x:auto;line-height:normal;font-family:Menlo,'DejaVu Sans Mono',consolas,'Courier New',monospace\">\n",
       "</pre>\n"
      ],
      "text/plain": [
       "\n"
      ]
     },
     "metadata": {},
     "output_type": "display_data"
    },
    {
     "name": "stdout",
     "output_type": "stream",
     "text": [
      "\u001b[1m\u001b[95m# Agent:\u001b[00m \u001b[1m\u001b[92mRedactor académico\u001b[00m\n",
      "\u001b[95m## Task:\u001b[00m \u001b[92mCon base en los datos obtenidos, redacta un resumen biográfico de Alan Turing en máximo 7 líneas.\u001b[00m\n",
      "\n",
      "\n",
      "\u001b[1m\u001b[95m# Agent:\u001b[00m \u001b[1m\u001b[92mRedactor académico\u001b[00m\n",
      "\u001b[95m## Final Answer:\u001b[00m \u001b[92m\n",
      "Thought: I now can give a great answer.\u001b[00m\n",
      "\n",
      "\n"
     ]
    },
    {
     "data": {
      "text/html": [
       "<pre style=\"white-space:pre;overflow-x:auto;line-height:normal;font-family:Menlo,'DejaVu Sans Mono',consolas,'Courier New',monospace\"><span style=\"color: #008080; text-decoration-color: #008080; font-weight: bold\">🚀 Crew: crew</span>\n",
       "├── <span style=\"color: #008000; text-decoration-color: #008000; font-weight: bold\">📋 Task: 42a5bc2d-20c6-432c-89e8-f5d73d4ac5a1</span>\n",
       "│   <span style=\"color: #c0c0c0; text-decoration-color: #c0c0c0\">   Assigned to: </span><span style=\"color: #008000; text-decoration-color: #008000\">Investigador histórico</span>\n",
       "│   <span style=\"color: #c0c0c0; text-decoration-color: #c0c0c0\">   Status: </span><span style=\"color: #008000; text-decoration-color: #008000; font-weight: bold\">✅ Completed</span>\n",
       "│   └── <span style=\"color: #008000; text-decoration-color: #008000; font-weight: bold\">🤖 Agent: </span><span style=\"color: #008000; text-decoration-color: #008000\">Investigador histórico</span>\n",
       "│       <span style=\"color: #c0c0c0; text-decoration-color: #c0c0c0\">    Status: </span><span style=\"color: #008000; text-decoration-color: #008000; font-weight: bold\">✅ Completed</span>\n",
       "└── <span style=\"color: #808000; text-decoration-color: #808000; font-weight: bold\">📋 Task: f86795a5-ad4d-4b82-b659-5df0a2d19877</span>\n",
       "    <span style=\"color: #c0c0c0; text-decoration-color: #c0c0c0\">   Status: </span><span style=\"color: #bfbf7f; text-decoration-color: #bfbf7f\">Executing Task...</span>\n",
       "    └── <span style=\"color: #008000; text-decoration-color: #008000; font-weight: bold\">🤖 Agent: </span><span style=\"color: #008000; text-decoration-color: #008000\">Redactor académico</span>\n",
       "        <span style=\"color: #c0c0c0; text-decoration-color: #c0c0c0\">    Status: </span><span style=\"color: #008000; text-decoration-color: #008000; font-weight: bold\">✅ Completed</span>\n",
       "</pre>\n"
      ],
      "text/plain": [
       "\u001b[1;36m🚀 Crew: \u001b[0m\u001b[1;36mcrew\u001b[0m\n",
       "├── \u001b[1;32m📋 Task: 42a5bc2d-20c6-432c-89e8-f5d73d4ac5a1\u001b[0m\n",
       "│   \u001b[37m   Assigned to: \u001b[0m\u001b[32mInvestigador histórico\u001b[0m\n",
       "│   \u001b[37m   Status: \u001b[0m\u001b[1;32m✅ Completed\u001b[0m\n",
       "│   └── \u001b[1;32m🤖 Agent: \u001b[0m\u001b[32mInvestigador histórico\u001b[0m\n",
       "│       \u001b[37m    Status: \u001b[0m\u001b[1;32m✅ Completed\u001b[0m\n",
       "└── \u001b[1;33m📋 Task: f86795a5-ad4d-4b82-b659-5df0a2d19877\u001b[0m\n",
       "    \u001b[37m   Status: \u001b[0m\u001b[2;33mExecuting Task...\u001b[0m\n",
       "    └── \u001b[1;32m🤖 Agent: \u001b[0m\u001b[32mRedactor académico\u001b[0m\n",
       "        \u001b[37m    Status: \u001b[0m\u001b[1;32m✅ Completed\u001b[0m\n"
      ]
     },
     "metadata": {},
     "output_type": "display_data"
    },
    {
     "data": {
      "text/html": [
       "<pre style=\"white-space:pre;overflow-x:auto;line-height:normal;font-family:Menlo,'DejaVu Sans Mono',consolas,'Courier New',monospace\">\n",
       "</pre>\n"
      ],
      "text/plain": [
       "\n"
      ]
     },
     "metadata": {},
     "output_type": "display_data"
    },
    {
     "data": {
      "text/html": [
       "<pre style=\"white-space:pre;overflow-x:auto;line-height:normal;font-family:Menlo,'DejaVu Sans Mono',consolas,'Courier New',monospace\"><span style=\"color: #008080; text-decoration-color: #008080; font-weight: bold\">🚀 Crew: crew</span>\n",
       "├── <span style=\"color: #008000; text-decoration-color: #008000; font-weight: bold\">📋 Task: 42a5bc2d-20c6-432c-89e8-f5d73d4ac5a1</span>\n",
       "│   <span style=\"color: #c0c0c0; text-decoration-color: #c0c0c0\">   Assigned to: </span><span style=\"color: #008000; text-decoration-color: #008000\">Investigador histórico</span>\n",
       "│   <span style=\"color: #c0c0c0; text-decoration-color: #c0c0c0\">   Status: </span><span style=\"color: #008000; text-decoration-color: #008000; font-weight: bold\">✅ Completed</span>\n",
       "│   └── <span style=\"color: #008000; text-decoration-color: #008000; font-weight: bold\">🤖 Agent: </span><span style=\"color: #008000; text-decoration-color: #008000\">Investigador histórico</span>\n",
       "│       <span style=\"color: #c0c0c0; text-decoration-color: #c0c0c0\">    Status: </span><span style=\"color: #008000; text-decoration-color: #008000; font-weight: bold\">✅ Completed</span>\n",
       "└── <span style=\"color: #008000; text-decoration-color: #008000; font-weight: bold\">📋 Task: f86795a5-ad4d-4b82-b659-5df0a2d19877</span>\n",
       "    <span style=\"color: #c0c0c0; text-decoration-color: #c0c0c0\">   Assigned to: </span><span style=\"color: #008000; text-decoration-color: #008000\">Redactor académico</span>\n",
       "    <span style=\"color: #c0c0c0; text-decoration-color: #c0c0c0\">   Status: </span><span style=\"color: #008000; text-decoration-color: #008000; font-weight: bold\">✅ Completed</span>\n",
       "    └── <span style=\"color: #008000; text-decoration-color: #008000; font-weight: bold\">🤖 Agent: </span><span style=\"color: #008000; text-decoration-color: #008000\">Redactor académico</span>\n",
       "        <span style=\"color: #c0c0c0; text-decoration-color: #c0c0c0\">    Status: </span><span style=\"color: #008000; text-decoration-color: #008000; font-weight: bold\">✅ Completed</span>\n",
       "</pre>\n"
      ],
      "text/plain": [
       "\u001b[1;36m🚀 Crew: \u001b[0m\u001b[1;36mcrew\u001b[0m\n",
       "├── \u001b[1;32m📋 Task: 42a5bc2d-20c6-432c-89e8-f5d73d4ac5a1\u001b[0m\n",
       "│   \u001b[37m   Assigned to: \u001b[0m\u001b[32mInvestigador histórico\u001b[0m\n",
       "│   \u001b[37m   Status: \u001b[0m\u001b[1;32m✅ Completed\u001b[0m\n",
       "│   └── \u001b[1;32m🤖 Agent: \u001b[0m\u001b[32mInvestigador histórico\u001b[0m\n",
       "│       \u001b[37m    Status: \u001b[0m\u001b[1;32m✅ Completed\u001b[0m\n",
       "└── \u001b[1;32m📋 Task: f86795a5-ad4d-4b82-b659-5df0a2d19877\u001b[0m\n",
       "    \u001b[37m   Assigned to: \u001b[0m\u001b[32mRedactor académico\u001b[0m\n",
       "    \u001b[37m   Status: \u001b[0m\u001b[1;32m✅ Completed\u001b[0m\n",
       "    └── \u001b[1;32m🤖 Agent: \u001b[0m\u001b[32mRedactor académico\u001b[0m\n",
       "        \u001b[37m    Status: \u001b[0m\u001b[1;32m✅ Completed\u001b[0m\n"
      ]
     },
     "metadata": {},
     "output_type": "display_data"
    },
    {
     "data": {
      "text/html": [
       "<pre style=\"white-space:pre;overflow-x:auto;line-height:normal;font-family:Menlo,'DejaVu Sans Mono',consolas,'Courier New',monospace\"><span style=\"color: #008000; text-decoration-color: #008000\">╭──────────────────────────────────────────────── Task Completion ────────────────────────────────────────────────╮</span>\n",
       "<span style=\"color: #008000; text-decoration-color: #008000\">│</span>                                                                                                                 <span style=\"color: #008000; text-decoration-color: #008000\">│</span>\n",
       "<span style=\"color: #008000; text-decoration-color: #008000\">│</span>  <span style=\"color: #008000; text-decoration-color: #008000; font-weight: bold\">Task Completed</span>                                                                                                 <span style=\"color: #008000; text-decoration-color: #008000\">│</span>\n",
       "<span style=\"color: #008000; text-decoration-color: #008000\">│</span>  <span style=\"color: #c0c0c0; text-decoration-color: #c0c0c0\">Name: </span><span style=\"color: #008000; text-decoration-color: #008000\">f86795a5-ad4d-4b82-b659-5df0a2d19877</span>                                                                     <span style=\"color: #008000; text-decoration-color: #008000\">│</span>\n",
       "<span style=\"color: #008000; text-decoration-color: #008000\">│</span>  <span style=\"color: #c0c0c0; text-decoration-color: #c0c0c0\">Agent: </span><span style=\"color: #008000; text-decoration-color: #008000\">Redactor académico</span>                                                                                      <span style=\"color: #008000; text-decoration-color: #008000\">│</span>\n",
       "<span style=\"color: #008000; text-decoration-color: #008000\">│</span>                                                                                                                 <span style=\"color: #008000; text-decoration-color: #008000\">│</span>\n",
       "<span style=\"color: #008000; text-decoration-color: #008000\">│</span>                                                                                                                 <span style=\"color: #008000; text-decoration-color: #008000\">│</span>\n",
       "<span style=\"color: #008000; text-decoration-color: #008000\">╰─────────────────────────────────────────────────────────────────────────────────────────────────────────────────╯</span>\n",
       "</pre>\n"
      ],
      "text/plain": [
       "\u001b[32m╭─\u001b[0m\u001b[32m───────────────────────────────────────────────\u001b[0m\u001b[32m Task Completion \u001b[0m\u001b[32m───────────────────────────────────────────────\u001b[0m\u001b[32m─╮\u001b[0m\n",
       "\u001b[32m│\u001b[0m                                                                                                                 \u001b[32m│\u001b[0m\n",
       "\u001b[32m│\u001b[0m  \u001b[1;32mTask Completed\u001b[0m                                                                                                 \u001b[32m│\u001b[0m\n",
       "\u001b[32m│\u001b[0m  \u001b[37mName: \u001b[0m\u001b[32mf86795a5-ad4d-4b82-b659-5df0a2d19877\u001b[0m                                                                     \u001b[32m│\u001b[0m\n",
       "\u001b[32m│\u001b[0m  \u001b[37mAgent: \u001b[0m\u001b[32mRedactor académico\u001b[0m                                                                                      \u001b[32m│\u001b[0m\n",
       "\u001b[32m│\u001b[0m                                                                                                                 \u001b[32m│\u001b[0m\n",
       "\u001b[32m│\u001b[0m                                                                                                                 \u001b[32m│\u001b[0m\n",
       "\u001b[32m╰─────────────────────────────────────────────────────────────────────────────────────────────────────────────────╯\u001b[0m\n"
      ]
     },
     "metadata": {},
     "output_type": "display_data"
    },
    {
     "data": {
      "text/html": [
       "<pre style=\"white-space:pre;overflow-x:auto;line-height:normal;font-family:Menlo,'DejaVu Sans Mono',consolas,'Courier New',monospace\">\n",
       "</pre>\n"
      ],
      "text/plain": [
       "\n"
      ]
     },
     "metadata": {},
     "output_type": "display_data"
    },
    {
     "data": {
      "text/html": [
       "<pre style=\"white-space:pre;overflow-x:auto;line-height:normal;font-family:Menlo,'DejaVu Sans Mono',consolas,'Courier New',monospace\"><span style=\"color: #008000; text-decoration-color: #008000\">╭──────────────────────────────────────────────── Crew Completion ────────────────────────────────────────────────╮</span>\n",
       "<span style=\"color: #008000; text-decoration-color: #008000\">│</span>                                                                                                                 <span style=\"color: #008000; text-decoration-color: #008000\">│</span>\n",
       "<span style=\"color: #008000; text-decoration-color: #008000\">│</span>  <span style=\"color: #008000; text-decoration-color: #008000; font-weight: bold\">Crew Execution Completed</span>                                                                                       <span style=\"color: #008000; text-decoration-color: #008000\">│</span>\n",
       "<span style=\"color: #008000; text-decoration-color: #008000\">│</span>  <span style=\"color: #c0c0c0; text-decoration-color: #c0c0c0\">Name: </span><span style=\"color: #008000; text-decoration-color: #008000\">crew</span>                                                                                                     <span style=\"color: #008000; text-decoration-color: #008000\">│</span>\n",
       "<span style=\"color: #008000; text-decoration-color: #008000\">│</span>  <span style=\"color: #c0c0c0; text-decoration-color: #c0c0c0\">ID: </span><span style=\"color: #008000; text-decoration-color: #008000\">8410044a-5bd5-466a-a38e-726f52d44c6c</span>                                                                       <span style=\"color: #008000; text-decoration-color: #008000\">│</span>\n",
       "<span style=\"color: #008000; text-decoration-color: #008000\">│</span>                                                                                                                 <span style=\"color: #008000; text-decoration-color: #008000\">│</span>\n",
       "<span style=\"color: #008000; text-decoration-color: #008000\">│</span>                                                                                                                 <span style=\"color: #008000; text-decoration-color: #008000\">│</span>\n",
       "<span style=\"color: #008000; text-decoration-color: #008000\">╰─────────────────────────────────────────────────────────────────────────────────────────────────────────────────╯</span>\n",
       "</pre>\n"
      ],
      "text/plain": [
       "\u001b[32m╭─\u001b[0m\u001b[32m───────────────────────────────────────────────\u001b[0m\u001b[32m Crew Completion \u001b[0m\u001b[32m───────────────────────────────────────────────\u001b[0m\u001b[32m─╮\u001b[0m\n",
       "\u001b[32m│\u001b[0m                                                                                                                 \u001b[32m│\u001b[0m\n",
       "\u001b[32m│\u001b[0m  \u001b[1;32mCrew Execution Completed\u001b[0m                                                                                       \u001b[32m│\u001b[0m\n",
       "\u001b[32m│\u001b[0m  \u001b[37mName: \u001b[0m\u001b[32mcrew\u001b[0m                                                                                                     \u001b[32m│\u001b[0m\n",
       "\u001b[32m│\u001b[0m  \u001b[37mID: \u001b[0m\u001b[32m8410044a-5bd5-466a-a38e-726f52d44c6c\u001b[0m                                                                       \u001b[32m│\u001b[0m\n",
       "\u001b[32m│\u001b[0m                                                                                                                 \u001b[32m│\u001b[0m\n",
       "\u001b[32m│\u001b[0m                                                                                                                 \u001b[32m│\u001b[0m\n",
       "\u001b[32m╰─────────────────────────────────────────────────────────────────────────────────────────────────────────────────╯\u001b[0m\n"
      ]
     },
     "metadata": {},
     "output_type": "display_data"
    },
    {
     "data": {
      "text/html": [
       "<pre style=\"white-space:pre;overflow-x:auto;line-height:normal;font-family:Menlo,'DejaVu Sans Mono',consolas,'Courier New',monospace\">\n",
       "</pre>\n"
      ],
      "text/plain": [
       "\n"
      ]
     },
     "metadata": {},
     "output_type": "display_data"
    },
    {
     "name": "stdout",
     "output_type": "stream",
     "text": [
      "\n",
      "🧾 Resultado final:\n",
      " Thought: I now can give a great answer.\n"
     ]
    }
   ],
   "source": [
    "# Agente investigador\n",
    "investigador = Agent(\n",
    "    role=\"Investigador histórico\",\n",
    "    goal=\"Investigar profundamente sobre Alan Turing\",\n",
    "    backstory=\"Un académico obsesionado con la historia de los genios matemáticos.\",\n",
    "    verbose=True,\n",
    "    allow_delegation=False,\n",
    "    llm=llm\n",
    ")\n",
    "\n",
    "# Agente escritor\n",
    "escritor = Agent(\n",
    "    role=\"Redactor académico\",\n",
    "    goal=\"Escribir un resumen claro y educativo\",\n",
    "    backstory=\"Experto en transformar datos complejos en resúmenes comprensibles.\",\n",
    "    verbose=True,\n",
    "    allow_delegation=False,\n",
    "    llm=llm\n",
    ")\n",
    "\n",
    "# Tareas\n",
    "tarea1 = Task(\n",
    "    description=\"Investiga datos importantes sobre la vida y logros de Alan Turing.\",\n",
    "    expected_output=\"Una lista con los logros, fechas importantes y contexto histórico.\",\n",
    "    agent=investigador\n",
    ")\n",
    "\n",
    "tarea2 = Task(\n",
    "    description=\"Con base en los datos obtenidos, redacta un resumen biográfico de Alan Turing en máximo 7 líneas.\",\n",
    "    expected_output=\"Resumen biográfico bien redactado, claro y conciso.\",\n",
    "    agent=escritor\n",
    ")\n",
    "\n",
    "# Crew\n",
    "crew = Crew(\n",
    "    agents=[investigador, escritor],\n",
    "    tasks=[tarea1, tarea2],\n",
    "    verbose=True\n",
    ")\n",
    "\n",
    "# Ejecutar\n",
    "resultado = crew.kickoff()\n",
    "print(\"\\n🧾 Resultado final:\\n\", resultado)\n"
   ]
  }
 ],
 "metadata": {
  "kernelspec": {
   "display_name": "base",
   "language": "python",
   "name": "python3"
  },
  "language_info": {
   "codemirror_mode": {
    "name": "ipython",
    "version": 3
   },
   "file_extension": ".py",
   "mimetype": "text/x-python",
   "name": "python",
   "nbconvert_exporter": "python",
   "pygments_lexer": "ipython3",
   "version": "3.12.4"
  }
 },
 "nbformat": 4,
 "nbformat_minor": 5
}
